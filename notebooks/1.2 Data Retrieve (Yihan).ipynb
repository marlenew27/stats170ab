{
 "cells": [
  {
   "cell_type": "code",
   "execution_count": 1,
   "metadata": {},
   "outputs": [],
   "source": [
    "#!/usr/bin/env python\n",
    "import snowflake.connector as sfc\n",
    "import pandas as pd\n",
    "import time\n",
    "import boto3\n",
    "import s3fs \n",
    "import os\n",
    "from io import StringIO\n",
    "from smart_open import smart_open"
   ]
  },
  {
   "cell_type": "code",
   "execution_count": 2,
   "metadata": {},
   "outputs": [],
   "source": [
    "# input personal key\n",
    "mykey = \"\"\n",
    "# input personal secret key \n",
    "mysecretkey = \"\" \n",
    "s3 = boto3.resource(\n",
    "    service_name='s3',\n",
    "    region_name='us-west-2',\n",
    "    aws_access_key_id=mykey,\n",
    "    aws_secret_access_key=mysecretkey\n",
    ")\n",
    "\n",
    "os.environ[\"AWS_DEFAULT_REGION\"] = 'us-west-2'\n",
    "os.environ[\"AWS_ACCESS_KEY_ID\"] = mykey\n",
    "os.environ[\"AWS_SECRET_ACCESS_KEY\"] = mysecretkey"
   ]
  },
  {
   "cell_type": "markdown",
   "metadata": {},
   "source": [
    "# Connect to DB"
   ]
  },
  {
   "cell_type": "code",
   "execution_count": 3,
   "metadata": {},
   "outputs": [],
   "source": [
    "omni = sfc.connect(\n",
    "    user='cs2021_user3',\n",
    "    password='Cap2021Stone-3',\n",
    "    account='paciolan',\n",
    "    warehouse='INTERNAL_ANALYTICS_WH',#'capstone2021_wh',\n",
    "    database='omni_raw',\n",
    "    schema='FUND',\n",
    "    role = 'CAPSTONE2021_ROLE'#'INTERNAL_INFOMART_ROLE'\n",
    ")"
   ]
  },
  {
   "cell_type": "markdown",
   "metadata": {},
   "source": [
    "# Extract data"
   ]
  },
  {
   "cell_type": "markdown",
   "metadata": {},
   "source": [
    "## DIM_DONOR (MARLENE)"
   ]
  },
  {
   "cell_type": "code",
   "execution_count": null,
   "metadata": {},
   "outputs": [],
   "source": [
    "# raw data from DIM_DONOR\n",
    "cs = omni.cursor()\n",
    "cur = cs.execute('''SELECT *\n",
    "                    from dim_donor\n",
    "                    where organization_id != 'SPORTS'\n",
    "                    and organization_id != 'ARTSDEMO'\n",
    "                    and organization_id != 'CLASS1'\n",
    "                    and organization_id != 'CLASS3A'\n",
    "                    and organization_id != 'CICD80'\n",
    "                ''')\n",
    "\n",
    "donor_df = pd.DataFrame.from_records(iter(cur), columns=[x[0] for x in cur.description])\n",
    "csv_buffer = StringIO()\n",
    "donor_df.to_csv(csv_buffer)\n",
    "s3_resource = boto3.resource('s3')\n",
    "s3_resource.Object('uci-capstone-custfields', 'raw/dim_donors.csv').put(Body=csv_buffer.getvalue())"
   ]
  },
  {
   "cell_type": "code",
   "execution_count": null,
   "metadata": {},
   "outputs": [],
   "source": [
    "# clean and reformat for future use\n",
    "donor_df = donor_df.drop(['DIM_ACCOUNT_KEY','DONOR_TYPE','DONOR_STATUS','DONOR_MEMBERSHIPS','MEMBERSHIPS'],axis=1)\n",
    "donor_df['DONOR_TYPE_NAME'] = donor_df['DONOR_TYPE_NAME'].str.strip('{\\n }')\n",
    "donor_df['DONOR_TYPE_NAME'] = donor_df['DONOR_TYPE_NAME'].str.replace('\"en_US\":','')\n",
    "donor_df['DONOR_STATUS_NAME'] = donor_df['DONOR_STATUS_NAME'].str.strip('{\\n }')\n",
    "donor_df['DONOR_STATUS_NAME'] = donor_df['DONOR_STATUS_NAME'].str.replace('\"en_US\":','')\n",
    "donor_df['CATEGORIES'] = donor_df['CATEGORIES'].str.strip('{\\n }')\n",
    "donor_df['CATEGORY_START_DATES'] = donor_df['CATEGORY_START_DATES'].str.replace(\"{}\",\"None\")\n",
    "donor_df['CATEGORY_END_DATES'] = donor_df['CATEGORY_END_DATES'].str.replace(\"{}\",\"None\")\n",
    "\n",
    "donor_df.rename(columns={'ORGANIZATION_ID':'org_id','ID':'account_id', 'IS_DELETED':'is_deleted',\n",
    "                                    'DONOR_TYPE_NAME':'donor_type','DONOR_STATUS_NAME':'donor_status',\n",
    "                                    'YEARS_OF_DONATING':'years_of_donating','CATEGORIES':'categories',\n",
    "                                    'CATEGORY_START_DATES':'cat_start_dates','CATEGORY_END_DATES':'cat_end_dates',\n",
    "                                    'SYS_STATUS':'sys_status'\n",
    "                                    }, inplace=True)"
   ]
  },
  {
   "cell_type": "code",
   "execution_count": null,
   "metadata": {},
   "outputs": [],
   "source": [
    "# save the cleaned version to s3\n",
    "csv_buffer = StringIO()\n",
    "donor_df.to_csv(csv_buffer)\n",
    "s3_resource = boto3.resource('s3')\n",
    "s3_resource.Object('uci-capstone-custfields', 'raw/cleaned_dim_donors.csv').put(Body=csv_buffer.getvalue())"
   ]
  },
  {
   "cell_type": "code",
   "execution_count": 43,
   "metadata": {},
   "outputs": [
    {
     "output_type": "stream",
     "name": "stderr",
     "text": [
      "/Library/Frameworks/Python.framework/Versions/3.7/lib/python3.7/site-packages/IPython/core/interactiveshell.py:3058: DtypeWarning: Columns (2,8,9) have mixed types.Specify dtype option on import or set low_memory=False.\n  interactivity=interactivity, compiler=compiler, result=result)\n"
     ]
    }
   ],
   "source": [
    "#donor_df = pd.read_csv(smart_open('s3://uci-capstone-custfields/raw/cleaned_dim_donors.csv'))"
   ]
  },
  {
   "cell_type": "code",
   "execution_count": 45,
   "metadata": {},
   "outputs": [
    {
     "output_type": "execute_result",
     "data": {
      "text/plain": [
       "           org_id account_id  is_deleted     donor_type donor_status  \\\n",
       "0        NEBRASKA     634566       False   \"Individual\"   \"Prospect\"   \n",
       "1        ARKANSAS     443476       False   \"Individual\"     \"Active\"   \n",
       "2        ARKANSAS     443495       False   \"Individual\"     \"Active\"   \n",
       "3        ARKANSAS     443579       False   \"Individual\"     \"Active\"   \n",
       "4        ARKANSAS     443554       False   \"Individual\"     \"Active\"   \n",
       "...           ...        ...         ...            ...          ...   \n",
       "5259325  OKLAHOMA     204432       False   \"Individual\"        \"New\"   \n",
       "5259326  OKLAHOMA     572635       False   \"Individual\"        \"New\"   \n",
       "5259327  OKLAHOMA     161379       False   \"Individual\"        \"New\"   \n",
       "5259328  OKLAHOMA     809988       False   \"Individual\"        \"New\"   \n",
       "5259329  OKLAHOMA     537414       False   \"Individual\"        \"New\"   \n",
       "\n",
       "         years_of_donating    categories cat_start_dates cat_end_dates  \\\n",
       "0                      0.0           NaN            None          None   \n",
       "1                      0.0           NaN            None          None   \n",
       "2                      0.0           NaN            None          None   \n",
       "3                      0.0           NaN            None          None   \n",
       "4                      0.0           NaN            None          None   \n",
       "...                    ...           ...             ...           ...   \n",
       "5259325                NaN           NaN             NaN           NaN   \n",
       "5259326                0.0           NaN            None          None   \n",
       "5259327                NaN           NaN             NaN           NaN   \n",
       "5259328                2.0  \"TFPP\": \"61\"            None          None   \n",
       "5259329                NaN           NaN             NaN           NaN   \n",
       "\n",
       "         sys_status  \n",
       "0               1.0  \n",
       "1               1.0  \n",
       "2               1.0  \n",
       "3               1.0  \n",
       "4               1.0  \n",
       "...             ...  \n",
       "5259325         1.0  \n",
       "5259326         1.0  \n",
       "5259327         1.0  \n",
       "5259328         1.0  \n",
       "5259329         1.0  \n",
       "\n",
       "[5259330 rows x 10 columns]"
      ],
      "text/html": "<div>\n<style scoped>\n    .dataframe tbody tr th:only-of-type {\n        vertical-align: middle;\n    }\n\n    .dataframe tbody tr th {\n        vertical-align: top;\n    }\n\n    .dataframe thead th {\n        text-align: right;\n    }\n</style>\n<table border=\"1\" class=\"dataframe\">\n  <thead>\n    <tr style=\"text-align: right;\">\n      <th></th>\n      <th>org_id</th>\n      <th>account_id</th>\n      <th>is_deleted</th>\n      <th>donor_type</th>\n      <th>donor_status</th>\n      <th>years_of_donating</th>\n      <th>categories</th>\n      <th>cat_start_dates</th>\n      <th>cat_end_dates</th>\n      <th>sys_status</th>\n    </tr>\n  </thead>\n  <tbody>\n    <tr>\n      <th>0</th>\n      <td>NEBRASKA</td>\n      <td>634566</td>\n      <td>False</td>\n      <td>\"Individual\"</td>\n      <td>\"Prospect\"</td>\n      <td>0.0</td>\n      <td>NaN</td>\n      <td>None</td>\n      <td>None</td>\n      <td>1.0</td>\n    </tr>\n    <tr>\n      <th>1</th>\n      <td>ARKANSAS</td>\n      <td>443476</td>\n      <td>False</td>\n      <td>\"Individual\"</td>\n      <td>\"Active\"</td>\n      <td>0.0</td>\n      <td>NaN</td>\n      <td>None</td>\n      <td>None</td>\n      <td>1.0</td>\n    </tr>\n    <tr>\n      <th>2</th>\n      <td>ARKANSAS</td>\n      <td>443495</td>\n      <td>False</td>\n      <td>\"Individual\"</td>\n      <td>\"Active\"</td>\n      <td>0.0</td>\n      <td>NaN</td>\n      <td>None</td>\n      <td>None</td>\n      <td>1.0</td>\n    </tr>\n    <tr>\n      <th>3</th>\n      <td>ARKANSAS</td>\n      <td>443579</td>\n      <td>False</td>\n      <td>\"Individual\"</td>\n      <td>\"Active\"</td>\n      <td>0.0</td>\n      <td>NaN</td>\n      <td>None</td>\n      <td>None</td>\n      <td>1.0</td>\n    </tr>\n    <tr>\n      <th>4</th>\n      <td>ARKANSAS</td>\n      <td>443554</td>\n      <td>False</td>\n      <td>\"Individual\"</td>\n      <td>\"Active\"</td>\n      <td>0.0</td>\n      <td>NaN</td>\n      <td>None</td>\n      <td>None</td>\n      <td>1.0</td>\n    </tr>\n    <tr>\n      <th>...</th>\n      <td>...</td>\n      <td>...</td>\n      <td>...</td>\n      <td>...</td>\n      <td>...</td>\n      <td>...</td>\n      <td>...</td>\n      <td>...</td>\n      <td>...</td>\n      <td>...</td>\n    </tr>\n    <tr>\n      <th>5259325</th>\n      <td>OKLAHOMA</td>\n      <td>204432</td>\n      <td>False</td>\n      <td>\"Individual\"</td>\n      <td>\"New\"</td>\n      <td>NaN</td>\n      <td>NaN</td>\n      <td>NaN</td>\n      <td>NaN</td>\n      <td>1.0</td>\n    </tr>\n    <tr>\n      <th>5259326</th>\n      <td>OKLAHOMA</td>\n      <td>572635</td>\n      <td>False</td>\n      <td>\"Individual\"</td>\n      <td>\"New\"</td>\n      <td>0.0</td>\n      <td>NaN</td>\n      <td>None</td>\n      <td>None</td>\n      <td>1.0</td>\n    </tr>\n    <tr>\n      <th>5259327</th>\n      <td>OKLAHOMA</td>\n      <td>161379</td>\n      <td>False</td>\n      <td>\"Individual\"</td>\n      <td>\"New\"</td>\n      <td>NaN</td>\n      <td>NaN</td>\n      <td>NaN</td>\n      <td>NaN</td>\n      <td>1.0</td>\n    </tr>\n    <tr>\n      <th>5259328</th>\n      <td>OKLAHOMA</td>\n      <td>809988</td>\n      <td>False</td>\n      <td>\"Individual\"</td>\n      <td>\"New\"</td>\n      <td>2.0</td>\n      <td>\"TFPP\": \"61\"</td>\n      <td>None</td>\n      <td>None</td>\n      <td>1.0</td>\n    </tr>\n    <tr>\n      <th>5259329</th>\n      <td>OKLAHOMA</td>\n      <td>537414</td>\n      <td>False</td>\n      <td>\"Individual\"</td>\n      <td>\"New\"</td>\n      <td>NaN</td>\n      <td>NaN</td>\n      <td>NaN</td>\n      <td>NaN</td>\n      <td>1.0</td>\n    </tr>\n  </tbody>\n</table>\n<p>5259330 rows × 10 columns</p>\n</div>"
     },
     "metadata": {},
     "execution_count": 45
    }
   ],
   "source": [
    "donor_df"
   ]
  },
  {
   "source": [
    "## DIM_DONOR_MEMBERSHIP (MARLENE)"
   ],
   "cell_type": "markdown",
   "metadata": {}
  },
  {
   "cell_type": "code",
   "execution_count": null,
   "metadata": {},
   "outputs": [],
   "source": [
    "# raw \n",
    "cs = omni.cursor()\n",
    "cur = cs.execute('''SELECT *\n",
    "                    from dim_donor_membership\n",
    "                    where organization_id != 'SPORTS'\n",
    "                    and organization_id != 'ARTSDEMO'\n",
    "                    and organization_id != 'CLASS1'\n",
    "                    and organization_id != 'CLASS3A'\n",
    "                    and organization_id != 'CICD80'\n",
    "                ''')\n",
    "\n",
    "donor_membership_df = pd.DataFrame.from_records(iter(cur), columns=[x[0] for x in cur.description])\n",
    "csv_buffer = StringIO()\n",
    "donor_membership_df.to_csv(csv_buffer)\n",
    "s3_resource = boto3.resource('s3')\n",
    "s3_resource.Object('uci-capstone-custfields', 'raw/dim_donor_membership.csv').put(Body=csv_buffer.getvalue())"
   ]
  },
  {
   "cell_type": "code",
   "execution_count": null,
   "metadata": {},
   "outputs": [],
   "source": [
    "donor_membership_df = donor_membership_df.drop(['DIM_ACCOUNT_KEY','DONOR_MEMBERSHIPS'],axis=1)\n",
    "donor_membership_df.rename(columns={'ORGANIZATION_ID':'org_id','ACCOUNT_ID':'account_id', 'MEMBERSHIP_ID':'membership_id',\n",
    "                                    'MEMBERSHIP_DRIVE_YEAR':'membership_drive_year','PLEDGED_LEVEL_NAME':'pledged_level',\n",
    "                                    'RECEIPT_LEVEL_NAME':'receipt_level','TOTAL_DONATED':'total_donated',\n",
    "                                    'TOTAL_PLEDGED':'total_pledged','DONOR_SYS_STATUS':'sys_status'}, inplace=True)\n",
    "donor_membership_df"
   ]
  },
  {
   "cell_type": "code",
   "execution_count": null,
   "metadata": {},
   "outputs": [],
   "source": [
    "# save the cleaned version to s3\n",
    "csv_buffer = StringIO()\n",
    "donor_membership_df.to_csv(csv_buffer)\n",
    "s3_resource = boto3.resource('s3')\n",
    "s3_resource.Object('uci-capstone-custfields', 'raw/cleaned_dim_donor_membership.csv').put(Body=csv_buffer.getvalue())"
   ]
  },
  {
   "cell_type": "code",
   "execution_count": 5,
   "metadata": {},
   "outputs": [],
   "source": [
    "#donor_df = pd.read_csv(smart_open('s3://uci-capstone-custfields/raw/cleaned_dim_donor_membership.csv'))"
   ]
  },
  {
   "cell_type": "code",
   "execution_count": 35,
   "metadata": {},
   "outputs": [],
   "source": [
    "year_donation = donor_df[['org_id','membership_drive_year','total_donated','total_pledged']].groupby(['org_id','membership_drive_year']).agg(['sum','median','mean','var','min','max']).reset_index()\n",
    "# year_donation['avg_donation'] = year_donation['total_donated'] / year_donation['num']\n",
    "# year_donation['avg_pledged'] = year_donation['total_pledged'] / year_donation['num']\n"
   ]
  },
  {
   "cell_type": "code",
   "execution_count": 36,
   "metadata": {},
   "outputs": [
    {
     "output_type": "stream",
     "name": "stderr",
     "text": [
      "/Library/Frameworks/Python.framework/Versions/3.7/lib/python3.7/site-packages/ipykernel_launcher.py:1: FutureWarning: Index.ravel returning ndarray is deprecated; in a future version this will return a view on self.\n  \"\"\"Entry point for launching an IPython kernel.\n"
     ]
    }
   ],
   "source": [
    "year_donation.columns = [\"_\".join(x) if x[0] not in [\"org_id\",\"year\"] else x[0] for x in year_donation.columns.ravel()]\n",
    "yea_donation = year_donation.rename(columns={'membership_drive_year_':'year'},inplace = True)"
   ]
  },
  {
   "cell_type": "code",
   "execution_count": 37,
   "metadata": {},
   "outputs": [
    {
     "output_type": "execute_result",
     "data": {
      "text/plain": [
       "       org_id  year  total_donated_sum  total_donated_median  \\\n",
       "0    ARKANSAS  2010        13033240.17               500.000   \n",
       "1    ARKANSAS  2011        19467473.66               750.000   \n",
       "2    ARKANSAS  2012        20610486.11               780.000   \n",
       "3    ARKANSAS  2013        20433144.84               800.000   \n",
       "4    ARKANSAS  2014        20277188.02               750.000   \n",
       "..        ...   ...                ...                   ...   \n",
       "133       USC  2017        26952673.00              3000.000   \n",
       "134       USC  2018        27091649.85              1000.000   \n",
       "135       USC  2019        31243304.74              1000.000   \n",
       "136       USC  2020          145292.11               224.995   \n",
       "137       USC  2021        27134182.37               416.650   \n",
       "\n",
       "     total_donated_mean  total_donated_var  total_donated_min  \\\n",
       "0           1220.798068       8.650827e+06                0.0   \n",
       "1           1522.680771       8.872070e+06                0.0   \n",
       "2           1605.053042       8.973810e+06                0.0   \n",
       "3           1706.459399       9.941690e+06                0.0   \n",
       "4           1663.291610       1.037045e+07                0.0   \n",
       "..                  ...                ...                ...   \n",
       "133         4656.647028       4.964515e+07                0.0   \n",
       "134         3517.939209       4.300926e+07                0.0   \n",
       "135         4012.238955       1.115720e+08                0.0   \n",
       "136         1513.459479       2.067817e+07                0.0   \n",
       "137         3753.518103       2.637170e+08                0.0   \n",
       "\n",
       "     total_donated_max  total_pledged_sum  total_pledged_median  \\\n",
       "0            100000.00        13123743.67                 500.0   \n",
       "1             98197.12        19593068.94                 750.0   \n",
       "2            100000.00        20723626.80                 800.0   \n",
       "3            110000.00        20533073.84                 825.0   \n",
       "4            110000.00        20340067.52                 750.0   \n",
       "..                 ...                ...                   ...   \n",
       "133          103200.00        27371619.09                3000.0   \n",
       "134          103200.00        26847424.26                1000.0   \n",
       "135          230000.00        31420447.43                1000.0   \n",
       "136           40000.00          243593.32                 200.0   \n",
       "137          460000.00        33858975.00                1000.0   \n",
       "\n",
       "     total_pledged_mean  total_pledged_var  total_pledged_min  \\\n",
       "0           1229.275353       8.666446e+06                0.0   \n",
       "1           1532.504415       8.881154e+06               50.0   \n",
       "2           1613.863936       8.974859e+06                0.0   \n",
       "3           1714.804897       9.945875e+06                0.0   \n",
       "4           1668.449473       1.036967e+07                0.0   \n",
       "..                  ...                ...                ...   \n",
       "133         4729.028868       4.953575e+07                0.0   \n",
       "134         3486.225719       4.253012e+07                0.0   \n",
       "135         4034.987470       1.116723e+08                0.0   \n",
       "136         2537.430417       1.183145e+08                0.0   \n",
       "137         4683.770231       2.787870e+08                0.0   \n",
       "\n",
       "     total_pledged_max  \n",
       "0            100000.00  \n",
       "1             98197.12  \n",
       "2            100000.00  \n",
       "3            110000.00  \n",
       "4            110000.00  \n",
       "..                 ...  \n",
       "133          103200.00  \n",
       "134          103200.00  \n",
       "135          230000.00  \n",
       "136          100000.00  \n",
       "137          460000.00  \n",
       "\n",
       "[138 rows x 14 columns]"
      ],
      "text/html": "<div>\n<style scoped>\n    .dataframe tbody tr th:only-of-type {\n        vertical-align: middle;\n    }\n\n    .dataframe tbody tr th {\n        vertical-align: top;\n    }\n\n    .dataframe thead th {\n        text-align: right;\n    }\n</style>\n<table border=\"1\" class=\"dataframe\">\n  <thead>\n    <tr style=\"text-align: right;\">\n      <th></th>\n      <th>org_id</th>\n      <th>year</th>\n      <th>total_donated_sum</th>\n      <th>total_donated_median</th>\n      <th>total_donated_mean</th>\n      <th>total_donated_var</th>\n      <th>total_donated_min</th>\n      <th>total_donated_max</th>\n      <th>total_pledged_sum</th>\n      <th>total_pledged_median</th>\n      <th>total_pledged_mean</th>\n      <th>total_pledged_var</th>\n      <th>total_pledged_min</th>\n      <th>total_pledged_max</th>\n    </tr>\n  </thead>\n  <tbody>\n    <tr>\n      <th>0</th>\n      <td>ARKANSAS</td>\n      <td>2010</td>\n      <td>13033240.17</td>\n      <td>500.000</td>\n      <td>1220.798068</td>\n      <td>8.650827e+06</td>\n      <td>0.0</td>\n      <td>100000.00</td>\n      <td>13123743.67</td>\n      <td>500.0</td>\n      <td>1229.275353</td>\n      <td>8.666446e+06</td>\n      <td>0.0</td>\n      <td>100000.00</td>\n    </tr>\n    <tr>\n      <th>1</th>\n      <td>ARKANSAS</td>\n      <td>2011</td>\n      <td>19467473.66</td>\n      <td>750.000</td>\n      <td>1522.680771</td>\n      <td>8.872070e+06</td>\n      <td>0.0</td>\n      <td>98197.12</td>\n      <td>19593068.94</td>\n      <td>750.0</td>\n      <td>1532.504415</td>\n      <td>8.881154e+06</td>\n      <td>50.0</td>\n      <td>98197.12</td>\n    </tr>\n    <tr>\n      <th>2</th>\n      <td>ARKANSAS</td>\n      <td>2012</td>\n      <td>20610486.11</td>\n      <td>780.000</td>\n      <td>1605.053042</td>\n      <td>8.973810e+06</td>\n      <td>0.0</td>\n      <td>100000.00</td>\n      <td>20723626.80</td>\n      <td>800.0</td>\n      <td>1613.863936</td>\n      <td>8.974859e+06</td>\n      <td>0.0</td>\n      <td>100000.00</td>\n    </tr>\n    <tr>\n      <th>3</th>\n      <td>ARKANSAS</td>\n      <td>2013</td>\n      <td>20433144.84</td>\n      <td>800.000</td>\n      <td>1706.459399</td>\n      <td>9.941690e+06</td>\n      <td>0.0</td>\n      <td>110000.00</td>\n      <td>20533073.84</td>\n      <td>825.0</td>\n      <td>1714.804897</td>\n      <td>9.945875e+06</td>\n      <td>0.0</td>\n      <td>110000.00</td>\n    </tr>\n    <tr>\n      <th>4</th>\n      <td>ARKANSAS</td>\n      <td>2014</td>\n      <td>20277188.02</td>\n      <td>750.000</td>\n      <td>1663.291610</td>\n      <td>1.037045e+07</td>\n      <td>0.0</td>\n      <td>110000.00</td>\n      <td>20340067.52</td>\n      <td>750.0</td>\n      <td>1668.449473</td>\n      <td>1.036967e+07</td>\n      <td>0.0</td>\n      <td>110000.00</td>\n    </tr>\n    <tr>\n      <th>...</th>\n      <td>...</td>\n      <td>...</td>\n      <td>...</td>\n      <td>...</td>\n      <td>...</td>\n      <td>...</td>\n      <td>...</td>\n      <td>...</td>\n      <td>...</td>\n      <td>...</td>\n      <td>...</td>\n      <td>...</td>\n      <td>...</td>\n      <td>...</td>\n    </tr>\n    <tr>\n      <th>133</th>\n      <td>USC</td>\n      <td>2017</td>\n      <td>26952673.00</td>\n      <td>3000.000</td>\n      <td>4656.647028</td>\n      <td>4.964515e+07</td>\n      <td>0.0</td>\n      <td>103200.00</td>\n      <td>27371619.09</td>\n      <td>3000.0</td>\n      <td>4729.028868</td>\n      <td>4.953575e+07</td>\n      <td>0.0</td>\n      <td>103200.00</td>\n    </tr>\n    <tr>\n      <th>134</th>\n      <td>USC</td>\n      <td>2018</td>\n      <td>27091649.85</td>\n      <td>1000.000</td>\n      <td>3517.939209</td>\n      <td>4.300926e+07</td>\n      <td>0.0</td>\n      <td>103200.00</td>\n      <td>26847424.26</td>\n      <td>1000.0</td>\n      <td>3486.225719</td>\n      <td>4.253012e+07</td>\n      <td>0.0</td>\n      <td>103200.00</td>\n    </tr>\n    <tr>\n      <th>135</th>\n      <td>USC</td>\n      <td>2019</td>\n      <td>31243304.74</td>\n      <td>1000.000</td>\n      <td>4012.238955</td>\n      <td>1.115720e+08</td>\n      <td>0.0</td>\n      <td>230000.00</td>\n      <td>31420447.43</td>\n      <td>1000.0</td>\n      <td>4034.987470</td>\n      <td>1.116723e+08</td>\n      <td>0.0</td>\n      <td>230000.00</td>\n    </tr>\n    <tr>\n      <th>136</th>\n      <td>USC</td>\n      <td>2020</td>\n      <td>145292.11</td>\n      <td>224.995</td>\n      <td>1513.459479</td>\n      <td>2.067817e+07</td>\n      <td>0.0</td>\n      <td>40000.00</td>\n      <td>243593.32</td>\n      <td>200.0</td>\n      <td>2537.430417</td>\n      <td>1.183145e+08</td>\n      <td>0.0</td>\n      <td>100000.00</td>\n    </tr>\n    <tr>\n      <th>137</th>\n      <td>USC</td>\n      <td>2021</td>\n      <td>27134182.37</td>\n      <td>416.650</td>\n      <td>3753.518103</td>\n      <td>2.637170e+08</td>\n      <td>0.0</td>\n      <td>460000.00</td>\n      <td>33858975.00</td>\n      <td>1000.0</td>\n      <td>4683.770231</td>\n      <td>2.787870e+08</td>\n      <td>0.0</td>\n      <td>460000.00</td>\n    </tr>\n  </tbody>\n</table>\n<p>138 rows × 14 columns</p>\n</div>"
     },
     "metadata": {},
     "execution_count": 37
    }
   ],
   "source": [
    "year_donation"
   ]
  },
  {
   "cell_type": "code",
   "execution_count": 38,
   "metadata": {},
   "outputs": [
    {
     "output_type": "execute_result",
     "data": {
      "text/plain": [
       "{'ResponseMetadata': {'RequestId': 'XF9EWMEF5DBZ5QHK',\n",
       "  'HostId': 'ghiiu9qutYLhhM8+Vcd+sSQvFQbWWHJ3Dx3UCmKfcCzmxEsqwqChZIfyeUU+vIZn/EOkoYHyUUo=',\n",
       "  'HTTPStatusCode': 200,\n",
       "  'HTTPHeaders': {'x-amz-id-2': 'ghiiu9qutYLhhM8+Vcd+sSQvFQbWWHJ3Dx3UCmKfcCzmxEsqwqChZIfyeUU+vIZn/EOkoYHyUUo=',\n",
       "   'x-amz-request-id': 'XF9EWMEF5DBZ5QHK',\n",
       "   'date': 'Sun, 11 Apr 2021 03:22:57 GMT',\n",
       "   'x-amz-version-id': 'NzobXhOWJ_RifbRRuSgOJm3MUZIiJYjM',\n",
       "   'etag': '\"7829aac63b51cfae459ff7e5646948cd\"',\n",
       "   'content-length': '0',\n",
       "   'server': 'AmazonS3'},\n",
       "  'RetryAttempts': 0},\n",
       " 'ETag': '\"7829aac63b51cfae459ff7e5646948cd\"',\n",
       " 'VersionId': 'NzobXhOWJ_RifbRRuSgOJm3MUZIiJYjM'}"
      ]
     },
     "metadata": {},
     "execution_count": 38
    }
   ],
   "source": [
    "# save the cleaned version to s3\n",
    "csv_buffer = StringIO()\n",
    "year_donation.to_csv(csv_buffer,index=False)\n",
    "s3_resource = boto3.resource('s3')\n",
    "s3_resource.Object('uci-capstone-custfields', 'raw/cleaned_year_donation.csv').put(Body=csv_buffer.getvalue())"
   ]
  },
  {
   "source": [
    "## AccountPriorityPointsProgramDetails (MARLENE)"
   ],
   "cell_type": "markdown",
   "metadata": {}
  },
  {
   "cell_type": "code",
   "execution_count": null,
   "metadata": {},
   "outputs": [],
   "source": [
    "cs = omni.cursor()\n",
    "cur = cs.execute('''select DISTINCT DATA:acctid::string as account_id,\n",
    "                           DATA:actualpoints::string as actual_points,\n",
    "                           DATA:dbid::string as org_id,\n",
    "                           DATA:pointscategoriesbreakdown as points_catg,\n",
    "                           DATA:potentialpoints::int as potential_points,\n",
    "                           DATA:progid::string as prog_id,\n",
    "                           DATA:seq::int as seq\n",
    "                    from ACCOUNTPRIORITYPOINTSPROGRAMDETAILS''')\n",
    "\n",
    "priority_prog_df = pd.DataFrame.from_records(iter(cur), columns=[x[0] for x in cur.description])\n",
    "# save the raw version\n",
    "csv_buffer = StringIO()\n",
    "priority_prog_df.to_csv(csv_buffer)\n",
    "s3_resource = boto3.resource('s3')\n",
    "s3_resource.Object('uci-capstone-custfields', 'raw/priority_program.csv').put(Body=csv_buffer.getvalue())"
   ]
  },
  {
   "cell_type": "code",
   "execution_count": 4,
   "metadata": {},
   "outputs": [
    {
     "output_type": "stream",
     "name": "stderr",
     "text": [
      "/Library/Frameworks/Python.framework/Versions/3.7/lib/python3.7/site-packages/IPython/core/interactiveshell.py:3058: DtypeWarning: Columns (0,2) have mixed types.Specify dtype option on import or set low_memory=False.\n  interactivity=interactivity, compiler=compiler, result=result)\n"
     ]
    }
   ],
   "source": [
    "priority_prog_df = pd.read_csv(smart_open('s3://uci-capstone-custfields/raw/priority_program.csv'))"
   ]
  },
  {
   "cell_type": "code",
   "execution_count": 5,
   "metadata": {},
   "outputs": [
    {
     "output_type": "stream",
     "name": "stderr",
     "text": [
      "/Library/Frameworks/Python.framework/Versions/3.7/lib/python3.7/site-packages/ipykernel_launcher.py:2: FutureWarning: The default value of regex will change from True to False in a future version.\n",
      "  \n",
      "/Library/Frameworks/Python.framework/Versions/3.7/lib/python3.7/site-packages/ipykernel_launcher.py:3: FutureWarning: The default value of regex will change from True to False in a future version.\n",
      "  This is separate from the ipykernel package so we can avoid doing imports until\n",
      "/Library/Frameworks/Python.framework/Versions/3.7/lib/python3.7/site-packages/ipykernel_launcher.py:4: FutureWarning: The default value of regex will change from True to False in a future version.\n",
      "  after removing the cwd from sys.path.\n",
      "/Library/Frameworks/Python.framework/Versions/3.7/lib/python3.7/site-packages/ipykernel_launcher.py:5: FutureWarning: The default value of regex will change from True to False in a future version.\n",
      "  \"\"\"\n"
     ]
    }
   ],
   "source": [
    "# clean json format\n",
    "priority_prog_df['POINTS_CATG'] = priority_prog_df['POINTS_CATG'].str.replace('{\\n    \"actualpoints\": ','')\n",
    "priority_prog_df['POINTS_CATG'] = priority_prog_df['POINTS_CATG'].str.replace(',\\n    \"name\": {\\n      \"en_US\":',',')\n",
    "priority_prog_df['POINTS_CATG'] = priority_prog_df['POINTS_CATG'].str.replace('\\n    },\\n    \"potentialpoints\": 0\\n  },\\n  ',',')\n",
    "priority_prog_df['POINTS_CATG'] = priority_prog_df['POINTS_CATG'].str.replace('\\n    },\\n    \"potentialpoints\": 0\\n  }\\n','')\n",
    "priority_prog_df['POINTS_CATG'] = priority_prog_df['POINTS_CATG'].str.replace('\\n ','')"
   ]
  },
  {
   "cell_type": "code",
   "execution_count": 7,
   "metadata": {},
   "outputs": [
    {
     "output_type": "execute_result",
     "data": {
      "text/plain": [
       "        account_id actual_points    org_id  \\\n",
       "0       14926389.0      72502000       TAM   \n",
       "1          20212.0      23031600       TAM   \n",
       "2          20333.0      14601680       TAM   \n",
       "3         602584.0      15729000       TAM   \n",
       "4          20696.0      93336000       TAM   \n",
       "...            ...           ...       ...   \n",
       "770548    565129.0        220000  OKLAHOMA   \n",
       "770549    579356.0        500000  OKLAHOMA   \n",
       "770550    273945.0      69680000  OKLAHOMA   \n",
       "770551    807691.0       1215000  OKLAHOMA   \n",
       "770552     26887.0       2269600  OKLAHOMA   \n",
       "\n",
       "                                              points_catg  potential_points  \\\n",
       "0       { \"1\": 45302000, \"Total Giving\",\"10\": 0, \"Texa...               0.0   \n",
       "1       { \"1\": 12181600, \"Total Giving\",\"10\": 0, \"Texa...               0.0   \n",
       "2       { \"1\": 3151680, \"Total Giving\",\"10\": 0, \"Texas...               0.0   \n",
       "3       { \"1\": 9479000, \"Total Giving\",\"10\": 0, \"Texas...               0.0   \n",
       "4       { \"1\": 72036000, \"Total Giving\",\"10\": 0, \"Texa...               0.0   \n",
       "...                                                   ...               ...   \n",
       "770548  { \"1\": 20000, \"Current Seating Gifts\",\"10\": 0,...               0.0   \n",
       "770549  { \"1\": 100000, \"Current Seating Points\",\"10\": ...               0.0   \n",
       "770550  { \"1\": 1500000, \"Current Seating Points\",\"10\":...               0.0   \n",
       "770551  { \"1\": 0, \"Current Seating Points\",\"10\": 0, \"S...               0.0   \n",
       "770552  { \"1\": 40000, \"Current Seating Gifts\",\"10\": 17...          150000.0   \n",
       "\n",
       "       prog_id    seq  \n",
       "0         TAMA    2.0  \n",
       "1         TAMA    6.0  \n",
       "2         TAMA   13.0  \n",
       "3         TAMA   18.0  \n",
       "4         TAMA   19.0  \n",
       "...        ...    ...  \n",
       "770548      CP  312.0  \n",
       "770549      SP  319.0  \n",
       "770550      SP  322.0  \n",
       "770551      SP  331.0  \n",
       "770552      CP  214.0  \n",
       "\n",
       "[770553 rows x 7 columns]"
      ],
      "text/html": "<div>\n<style scoped>\n    .dataframe tbody tr th:only-of-type {\n        vertical-align: middle;\n    }\n\n    .dataframe tbody tr th {\n        vertical-align: top;\n    }\n\n    .dataframe thead th {\n        text-align: right;\n    }\n</style>\n<table border=\"1\" class=\"dataframe\">\n  <thead>\n    <tr style=\"text-align: right;\">\n      <th></th>\n      <th>account_id</th>\n      <th>actual_points</th>\n      <th>org_id</th>\n      <th>points_catg</th>\n      <th>potential_points</th>\n      <th>prog_id</th>\n      <th>seq</th>\n    </tr>\n  </thead>\n  <tbody>\n    <tr>\n      <th>0</th>\n      <td>14926389.0</td>\n      <td>72502000</td>\n      <td>TAM</td>\n      <td>{ \"1\": 45302000, \"Total Giving\",\"10\": 0, \"Texa...</td>\n      <td>0.0</td>\n      <td>TAMA</td>\n      <td>2.0</td>\n    </tr>\n    <tr>\n      <th>1</th>\n      <td>20212.0</td>\n      <td>23031600</td>\n      <td>TAM</td>\n      <td>{ \"1\": 12181600, \"Total Giving\",\"10\": 0, \"Texa...</td>\n      <td>0.0</td>\n      <td>TAMA</td>\n      <td>6.0</td>\n    </tr>\n    <tr>\n      <th>2</th>\n      <td>20333.0</td>\n      <td>14601680</td>\n      <td>TAM</td>\n      <td>{ \"1\": 3151680, \"Total Giving\",\"10\": 0, \"Texas...</td>\n      <td>0.0</td>\n      <td>TAMA</td>\n      <td>13.0</td>\n    </tr>\n    <tr>\n      <th>3</th>\n      <td>602584.0</td>\n      <td>15729000</td>\n      <td>TAM</td>\n      <td>{ \"1\": 9479000, \"Total Giving\",\"10\": 0, \"Texas...</td>\n      <td>0.0</td>\n      <td>TAMA</td>\n      <td>18.0</td>\n    </tr>\n    <tr>\n      <th>4</th>\n      <td>20696.0</td>\n      <td>93336000</td>\n      <td>TAM</td>\n      <td>{ \"1\": 72036000, \"Total Giving\",\"10\": 0, \"Texa...</td>\n      <td>0.0</td>\n      <td>TAMA</td>\n      <td>19.0</td>\n    </tr>\n    <tr>\n      <th>...</th>\n      <td>...</td>\n      <td>...</td>\n      <td>...</td>\n      <td>...</td>\n      <td>...</td>\n      <td>...</td>\n      <td>...</td>\n    </tr>\n    <tr>\n      <th>770548</th>\n      <td>565129.0</td>\n      <td>220000</td>\n      <td>OKLAHOMA</td>\n      <td>{ \"1\": 20000, \"Current Seating Gifts\",\"10\": 0,...</td>\n      <td>0.0</td>\n      <td>CP</td>\n      <td>312.0</td>\n    </tr>\n    <tr>\n      <th>770549</th>\n      <td>579356.0</td>\n      <td>500000</td>\n      <td>OKLAHOMA</td>\n      <td>{ \"1\": 100000, \"Current Seating Points\",\"10\": ...</td>\n      <td>0.0</td>\n      <td>SP</td>\n      <td>319.0</td>\n    </tr>\n    <tr>\n      <th>770550</th>\n      <td>273945.0</td>\n      <td>69680000</td>\n      <td>OKLAHOMA</td>\n      <td>{ \"1\": 1500000, \"Current Seating Points\",\"10\":...</td>\n      <td>0.0</td>\n      <td>SP</td>\n      <td>322.0</td>\n    </tr>\n    <tr>\n      <th>770551</th>\n      <td>807691.0</td>\n      <td>1215000</td>\n      <td>OKLAHOMA</td>\n      <td>{ \"1\": 0, \"Current Seating Points\",\"10\": 0, \"S...</td>\n      <td>0.0</td>\n      <td>SP</td>\n      <td>331.0</td>\n    </tr>\n    <tr>\n      <th>770552</th>\n      <td>26887.0</td>\n      <td>2269600</td>\n      <td>OKLAHOMA</td>\n      <td>{ \"1\": 40000, \"Current Seating Gifts\",\"10\": 17...</td>\n      <td>150000.0</td>\n      <td>CP</td>\n      <td>214.0</td>\n    </tr>\n  </tbody>\n</table>\n<p>770553 rows × 7 columns</p>\n</div>"
     },
     "metadata": {},
     "execution_count": 7
    }
   ],
   "source": [
    "priority_prog_df.rename(columns={'ACCOUNT_ID':'account_id','ACTUAL_POINTS':'actual_points',\n",
    "                                'ORG_ID':'org_id','POINTS_CATG':'points_catg','POTENTIAL_POINTS':'potential_points',\n",
    "                                'PROG_ID':'prog_id','SEQ':'seq'},inplace=True)\n",
    "priority_prog_df = priority_prog_df.drop(['Unnamed: 0'],axis=1)\n",
    "priority_prog_df"
   ]
  },
  {
   "cell_type": "code",
   "execution_count": 8,
   "metadata": {},
   "outputs": [
    {
     "output_type": "execute_result",
     "data": {
      "text/plain": [
       "{'ResponseMetadata': {'RequestId': '8J8THQZ91RJ2GGCR',\n",
       "  'HostId': 'hGmstjMWvlxQzoOp2aVRtqKWd4ZRJp5ccF/pWO3umYZCOc18t4HOZ7B+HFuTo+muyBbzZ3b0ONk=',\n",
       "  'HTTPStatusCode': 200,\n",
       "  'HTTPHeaders': {'x-amz-id-2': 'hGmstjMWvlxQzoOp2aVRtqKWd4ZRJp5ccF/pWO3umYZCOc18t4HOZ7B+HFuTo+muyBbzZ3b0ONk=',\n",
       "   'x-amz-request-id': '8J8THQZ91RJ2GGCR',\n",
       "   'date': 'Fri, 09 Apr 2021 08:57:17 GMT',\n",
       "   'x-amz-version-id': 'yaRGL_87YdVrVG_eHpc.FN.JvuNMxPxX',\n",
       "   'etag': '\"0e59989f8f8e439b908e949d2f3f8763\"',\n",
       "   'content-length': '0',\n",
       "   'server': 'AmazonS3'},\n",
       "  'RetryAttempts': 0},\n",
       " 'ETag': '\"0e59989f8f8e439b908e949d2f3f8763\"',\n",
       " 'VersionId': 'yaRGL_87YdVrVG_eHpc.FN.JvuNMxPxX'}"
      ]
     },
     "metadata": {},
     "execution_count": 8
    }
   ],
   "source": [
    "#  save the cleaned version to s3\n",
    "csv_buffer = StringIO()\n",
    "priority_prog_df.to_csv(csv_buffer)\n",
    "s3_resource = boto3.resource('s3')\n",
    "s3_resource.Object('uci-capstone-custfields', 'raw/cleaned_priority_program.csv').put(Body=csv_buffer.getvalue())"
   ]
  },
  {
   "cell_type": "markdown",
   "metadata": {},
   "source": [
    "# Close Connection"
   ]
  },
  {
   "cell_type": "code",
   "execution_count": null,
   "metadata": {},
   "outputs": [],
   "source": [
    "cs.close()\n",
    "omni.close()"
   ]
  }
 ],
 "metadata": {
  "kernelspec": {
   "name": "python374jvsc74a57bd0aee8b7b246df8f9039afb4144a1f6fd8d2ca17a180786b69acc140d282b71a49",
   "display_name": "Python 3.7.4 64-bit"
  },
  "language_info": {
   "codemirror_mode": {
    "name": "ipython",
    "version": 3
   },
   "file_extension": ".py",
   "mimetype": "text/x-python",
   "name": "python",
   "nbconvert_exporter": "python",
   "pygments_lexer": "ipython3",
   "version": "3.7.4-final"
  },
  "toc": {
   "base_numbering": 1,
   "nav_menu": {},
   "number_sections": true,
   "sideBar": true,
   "skip_h1_title": false,
   "title_cell": "Table of Contents",
   "title_sidebar": "Contents",
   "toc_cell": false,
   "toc_position": {},
   "toc_section_display": true,
   "toc_window_display": false
  }
 },
 "nbformat": 4,
 "nbformat_minor": 4
}
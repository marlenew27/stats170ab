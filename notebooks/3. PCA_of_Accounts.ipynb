{
 "cells": [
  {
   "cell_type": "markdown",
   "metadata": {},
   "source": [
    "# Dimensionality Reduction Analysis on Sample Accounts Data\n",
    "\n",
    "### This is the notebook that only runs the sample data from USC & OKLAHOMA"
   ]
  },
  {
   "cell_type": "markdown",
   "metadata": {
    "id": "poXU8OqFDkDP"
   },
   "source": [
    "## Reload the saved combined_df and yearly_transac"
   ]
  },
  {
   "cell_type": "code",
   "execution_count": null,
   "metadata": {
    "colab": {
     "base_uri": "https://localhost:8080/"
    },
    "executionInfo": {
     "elapsed": 2901,
     "status": "ok",
     "timestamp": 1621323596692,
     "user": {
      "displayName": "Yihan Wang",
      "photoUrl": "",
      "userId": "06041494629110133871"
     },
     "user_tz": 420
    },
    "id": "lE8S5yc1DjLs",
    "outputId": "6b556f31-a63b-498a-e744-111522f2e9b7"
   },
   "outputs": [],
   "source": [
    "import pandas as pd\n",
    "import numpy as np\n",
    "import matplotlib.pyplot as plt\n",
    "from matplotlib import colors\n",
    "from sklearn.preprocessing import StandardScaler\n",
    "from sklearn.decomposition import PCA\n",
    "from sklearn.preprocessing import scale\n",
    "import seaborn as sns\n",
    "\n",
    "import plotly.express as px"
   ]
  },
  {
   "cell_type": "markdown",
   "metadata": {},
   "source": [
    "## Read the sample data from USC and OKLAHOMA to check the sample output"
   ]
  },
  {
   "cell_type": "markdown",
   "metadata": {
    "id": "fUPY_7CKM_-b"
   },
   "source": [
    "### Plot only USC account info (without yearly transaction info)"
   ]
  },
  {
   "cell_type": "code",
   "execution_count": null,
   "metadata": {},
   "outputs": [],
   "source": [
    "USC = pd.read_csv(\"../sample_data/other_samples/USC_without_transac_features.csv\")"
   ]
  },
  {
   "cell_type": "code",
   "execution_count": null,
   "metadata": {
    "colab": {
     "base_uri": "https://localhost:8080/",
     "height": 542,
     "output_embedded_package_id": "1xf2XWLd_lNOlIZ2p9HBJedrvErxsSgP5"
    },
    "executionInfo": {
     "elapsed": 15774,
     "status": "ok",
     "timestamp": 1621324325223,
     "user": {
      "displayName": "Yihan Wang",
      "photoUrl": "",
      "userId": "06041494629110133871"
     },
     "user_tz": 420
    },
    "id": "RryEltYLAFND",
    "outputId": "d29eb21e-7666-46f3-eca3-e54bd18d6ba3"
   },
   "outputs": [],
   "source": [
    "USC_pca = USC.iloc[:,4:].copy()\n",
    "# normalize data\n",
    "sc = StandardScaler()\n",
    "usc_normalized = sc.fit_transform(USC_pca)\n",
    "\n",
    "# 2 PCs by account_id and colored by org_id\n",
    "pca2d = PCA(n_components=2)\n",
    "principal_components2d = pca2d.fit_transform(usc_normalized)\n",
    "\n",
    "principalDf = pd.DataFrame(data = principal_components2d\n",
    "             , columns = ['principal component 1', 'principal component 2'])\n",
    "\n",
    "fig_pca2d = px.scatter(\n",
    "    principal_components2d, \n",
    "    x=principalDf['principal component 1'], \n",
    "    y=principalDf['principal component 2'],\n",
    "    color=USC.is_donor, \n",
    "    hover_name=USC['account_id'],\n",
    "    labels={'color': 'Is Donor'}\n",
    ")\n",
    "\n",
    "fig_pca2d.update_layout(\n",
    "    width=800,\n",
    "    xaxis_title='Principal component 1',\n",
    "    yaxis_title='Principal component 2',\n",
    "    title_text='PCA 2D for only USC Accounts (without yearly transacion info)'\n",
    ")"
   ]
  },
  {
   "cell_type": "code",
   "execution_count": null,
   "metadata": {
    "colab": {
     "base_uri": "https://localhost:8080/",
     "height": 483
    },
    "executionInfo": {
     "elapsed": 644,
     "status": "ok",
     "timestamp": 1621324345355,
     "user": {
      "displayName": "Yihan Wang",
      "photoUrl": "",
      "userId": "06041494629110133871"
     },
     "user_tz": 420
    },
    "id": "2kxZxaBmNpgQ",
    "outputId": "26b61f44-5e01-4731-b497-b24b719b394b"
   },
   "outputs": [],
   "source": [
    "loadings = pca2d.components_\n",
    "num_pc = pca2d.n_features_\n",
    "pc_list = [\"PC\"+str(i) for i in list(range(1, num_pc+1))]\n",
    "loadings_df = pd.DataFrame.from_dict(dict(zip(pc_list, loadings)))\n",
    "loadings_df['variable'] = USC_pca.columns.values\n",
    "loadings_df = loadings_df.set_index('variable')\n",
    "loadings_df"
   ]
  },
  {
   "cell_type": "markdown",
   "metadata": {
    "id": "UQVZx-BpRjfq"
   },
   "source": [
    "### PCA for USC's Accounts (with yearly transaction info)"
   ]
  },
  {
   "cell_type": "code",
   "execution_count": null,
   "metadata": {},
   "outputs": [],
   "source": [
    "USC_new = pd.read_csv(\"../sample_data/other_samples/USC_all_features.csv\")"
   ]
  },
  {
   "cell_type": "code",
   "execution_count": null,
   "metadata": {
    "colab": {
     "base_uri": "https://localhost:8080/",
     "height": 542,
     "output_embedded_package_id": "1E3Upuobpmn2yLEuHAV-r4hQtkEjNz_zm"
    },
    "executionInfo": {
     "elapsed": 6010,
     "status": "ok",
     "timestamp": 1621328103903,
     "user": {
      "displayName": "Yihan Wang",
      "photoUrl": "",
      "userId": "06041494629110133871"
     },
     "user_tz": 420
    },
    "id": "hI7I_g2GQ79Y",
    "outputId": "c1906abb-d123-46b1-ae18-9018e8ab8bd3"
   },
   "outputs": [],
   "source": [
    "USC_pca = USC_new.iloc[:,4:].copy()\n",
    "# normalize data\n",
    "sc = StandardScaler()\n",
    "usc_normalized = sc.fit_transform(USC_pca)\n",
    "\n",
    "# 2 PCs by account_id and colored by org_id\n",
    "pca2d = PCA(n_components=2)\n",
    "principal_components2d = pca2d.fit_transform(usc_normalized)\n",
    "\n",
    "principalDf = pd.DataFrame(data = principal_components2d\n",
    "             , columns = ['principal component 1', 'principal component 2'])\n",
    "\n",
    "fig_pca2d = px.scatter(\n",
    "    principal_components2d, \n",
    "    x=principalDf['principal component 1'], \n",
    "    y=principalDf['principal component 2'],\n",
    "    color=USC_new.in_priority_prog, \n",
    "    hover_name=USC_new['account_id'], \n",
    "    labels={'color': 'Enrolled in Priority Program'}\n",
    ")\n",
    "\n",
    "fig_pca2d.update_layout(\n",
    "    width=800,\n",
    "    xaxis_title='Principal component 1',\n",
    "    yaxis_title='Principal component 2',\n",
    "    title_text='PCA 2D for only USC Accounts (with yearly transacion info)'\n",
    ")"
   ]
  },
  {
   "cell_type": "code",
   "execution_count": null,
   "metadata": {
    "colab": {
     "base_uri": "https://localhost:8080/",
     "height": 1000
    },
    "executionInfo": {
     "elapsed": 338,
     "status": "ok",
     "timestamp": 1621328112168,
     "user": {
      "displayName": "Yihan Wang",
      "photoUrl": "",
      "userId": "06041494629110133871"
     },
     "user_tz": 420
    },
    "id": "_Gkfnde0SBGW",
    "outputId": "73c9b318-e5ea-488b-ea7d-50b69f1f3113"
   },
   "outputs": [],
   "source": [
    "loadings = pca2d.components_\n",
    "num_pc = pca2d.n_features_\n",
    "pc_list = [\"PC\"+str(i) for i in list(range(1, num_pc+1))]\n",
    "loadings_df = pd.DataFrame.from_dict(dict(zip(pc_list, loadings)))\n",
    "loadings_df['variable'] = USC_pca.columns.values\n",
    "loadings_df = loadings_df.set_index('variable')\n",
    "loadings_df.iloc[:50,:]\n",
    "# The loadings looks like persforming poorly (explained variance ~= 0.1)"
   ]
  },
  {
   "cell_type": "markdown",
   "metadata": {
    "id": "fUPY_7CKM_-b"
   },
   "source": [
    "### Plot only OKLAHOMA's account info (without yearly transaction info)"
   ]
  },
  {
   "cell_type": "code",
   "execution_count": null,
   "metadata": {
    "colab": {
     "base_uri": "https://localhost:8080/",
     "height": 439
    },
    "executionInfo": {
     "elapsed": 2935,
     "status": "ok",
     "timestamp": 1621328095677,
     "user": {
      "displayName": "Yihan Wang",
      "photoUrl": "",
      "userId": "06041494629110133871"
     },
     "user_tz": 420
    },
    "id": "irq55CliPxEr",
    "outputId": "66094a6f-597b-4998-967c-c17c88d65344"
   },
   "outputs": [],
   "source": [
    "OKL = pd.read_csv(\"../stats170ab/sample_data/other_samples/OKLAHOMA_without_transac_features.csv\")"
   ]
  },
  {
   "cell_type": "code",
   "execution_count": null,
   "metadata": {},
   "outputs": [],
   "source": [
    "OKL_pca = OKL.iloc[:,4:].copy()\n",
    "# normalize data\n",
    "sc = StandardScaler()\n",
    "okl_normalized = sc.fit_transform(OKL_pca)\n",
    "\n",
    "# 2 PCs by account_id and colored by org_id\n",
    "pca2d = PCA(n_components=2)\n",
    "principal_components2d = pca2d.fit_transform(okl_normalized)\n",
    "\n",
    "principalDf = pd.DataFrame(data = principal_components2d\n",
    "             , columns = ['principal component 1', 'principal component 2'])\n",
    "\n",
    "fig_pca2d = px.scatter(\n",
    "    principal_components2d, \n",
    "    x=principalDf['principal component 1'], \n",
    "    y=principalDf['principal component 2'],\n",
    "    color=OKL.is_donor, \n",
    "    hover_name=OKL['account_id'],\n",
    "    labels={'color': 'Is Donor'}\n",
    ")\n",
    "\n",
    "fig_pca2d.update_layout(\n",
    "    width=800,\n",
    "    xaxis_title='Principal component 1',\n",
    "    yaxis_title='Principal component 2',\n",
    "    title_text='PCA 2D for only OKLAHOMA Accounts (without yearly transacion info)'\n",
    ")"
   ]
  },
  {
   "cell_type": "code",
   "execution_count": null,
   "metadata": {},
   "outputs": [],
   "source": [
    "loadings = pca2d.components_\n",
    "num_pc = pca2d.n_features_\n",
    "pc_list = [\"PC\"+str(i) for i in list(range(1, num_pc+1))]\n",
    "loadings_df = pd.DataFrame.from_dict(dict(zip(pc_list, loadings)))\n",
    "loadings_df['variable'] = OKL_pca.columns.values\n",
    "loadings_df = loadings_df.set_index('variable')\n",
    "loadings_df"
   ]
  },
  {
   "cell_type": "markdown",
   "metadata": {},
   "source": [
    "### Plot only OKLAHOMA's account info (with yearly transaction info)"
   ]
  },
  {
   "cell_type": "code",
   "execution_count": null,
   "metadata": {},
   "outputs": [],
   "source": [
    "OKL_new = pd.read_csv(\"../sample_data/other_samples/OKLAHOMA_all_features.csv\")"
   ]
  },
  {
   "cell_type": "code",
   "execution_count": null,
   "metadata": {},
   "outputs": [],
   "source": [
    "OKL_pca = OKL_new.iloc[:,4:].copy()\n",
    "# normalize data\n",
    "sc = StandardScaler()\n",
    "okl_normalized = sc.fit_transform(OKL_pca)\n",
    "\n",
    "# 2 PCs by account_id and colored by org_id\n",
    "pca2d = PCA(n_components=2)\n",
    "principal_components2d = pca2d.fit_transform(okl_normalized)\n",
    "\n",
    "principalDf = pd.DataFrame(data = principal_components2d\n",
    "             , columns = ['principal component 1', 'principal component 2'])\n",
    "\n",
    "fig_pca2d = px.scatter(\n",
    "    principal_components2d, \n",
    "    x=principalDf['principal component 1'], \n",
    "    y=principalDf['principal component 2'],\n",
    "    color=OKL_new.in_priority_prog, \n",
    "    hover_name=OKL_new['account_id'], \n",
    "    labels={'color': 'Enrolled in Priority Program'}\n",
    ")\n",
    "\n",
    "fig_pca2d.update_layout(\n",
    "    width=800,\n",
    "    xaxis_title='Principal component 1',\n",
    "    yaxis_title='Principal component 2',\n",
    "    title_text='PCA 2D for only OKLAHOMA Accounts (with yearly transacion info)'\n",
    ")"
   ]
  },
  {
   "cell_type": "code",
   "execution_count": null,
   "metadata": {},
   "outputs": [],
   "source": [
    "loadings = pca2d.components_\n",
    "num_pc = pca2d.n_features_\n",
    "pc_list = [\"PC\"+str(i) for i in list(range(1, num_pc+1))]\n",
    "loadings_df = pd.DataFrame.from_dict(dict(zip(pc_list, loadings)))\n",
    "loadings_df['variable'] = OKL_pca.columns.values\n",
    "loadings_df = loadings_df.set_index('variable')\n",
    "loadings_df"
   ]
  }
 ],
 "metadata": {
  "colab": {
   "authorship_tag": "ABX9TyPaPRyZ6iRWKrZZ3ReNjEKH",
   "collapsed_sections": [],
   "mount_file_id": "1_7XFrC1G4E0iy-w97JPPQfLURUbkNeoU",
   "name": "PCA_of_Accounts.ipynb",
   "provenance": []
  },
  "kernelspec": {
   "display_name": "Python 3",
   "language": "python",
   "name": "python3"
  },
  "language_info": {
   "codemirror_mode": {
    "name": "ipython",
    "version": 3
   },
   "file_extension": ".py",
   "mimetype": "text/x-python",
   "name": "python",
   "nbconvert_exporter": "python",
   "pygments_lexer": "ipython3",
   "version": "3.7.4"
  }
 },
 "nbformat": 4,
 "nbformat_minor": 1
}

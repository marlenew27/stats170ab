{
 "cells": [
  {
   "cell_type": "markdown",
   "metadata": {},
   "source": [
    "# Dimensionality Reduction on Organization-Level Data\n",
    "\n",
    "## This notebook only runs the sample data we selected from the completed datasets"
   ]
  },
  {
   "cell_type": "code",
   "execution_count": null,
   "metadata": {},
   "outputs": [],
   "source": [
    "import pandas as pd\n",
    "import matplotlib.pyplot as plt\n",
    "import numpy as np\n",
    "from matplotlib import colors\n",
    "from sklearn.preprocessing import StandardScaler\n",
    "from sklearn.decomposition import PCA\n",
    "from sklearn.preprocessing import scale\n",
    "import seaborn as sns"
   ]
  },
  {
   "cell_type": "markdown",
   "metadata": {},
   "source": [
    "# Load Data"
   ]
  },
  {
   "cell_type": "code",
   "execution_count": null,
   "metadata": {},
   "outputs": [],
   "source": [
    "transaction = pd.read_csv(\"../sample_data/other_samples/yearlyorgpayment_perperson.csv\")\n",
    "ticket = pd.read_csv(\"../sample_data/other_samples/org_yearly_tk_pperson_v2.csv\")\n",
    "donor = pd.read_csv(\"../sample_data/other_samples/cleaned_year_donation.csv\")"
   ]
  },
  {
   "cell_type": "markdown",
   "metadata": {},
   "source": [
    "# Data Cleaning "
   ]
  },
  {
   "cell_type": "markdown",
   "metadata": {},
   "source": [
    "## Ticket"
   ]
  },
  {
   "cell_type": "code",
   "execution_count": null,
   "metadata": {},
   "outputs": [],
   "source": [
    "ticket.dropna(inplace = True)"
   ]
  },
  {
   "cell_type": "markdown",
   "metadata": {
    "heading_collapsed": true
   },
   "source": [
    "## Transaction"
   ]
  },
  {
   "cell_type": "code",
   "execution_count": null,
   "metadata": {
    "hidden": true
   },
   "outputs": [],
   "source": [
    "transaction.year = transaction.year.astype(str)\n",
    "transaction = transaction.pivot(index = [\"org_id\"], \n",
    "                     columns = [\"year\"],\n",
    "                     values = [c for c in transaction.columns if c not in [\"org_id\",\"year\"]]).reset_index()\n",
    "transaction.columns = [\"_\".join(x) if x[0] !=\"org_id\" else x[0] for x in transaction.columns.ravel()]"
   ]
  },
  {
   "cell_type": "code",
   "execution_count": null,
   "metadata": {
    "hidden": true
   },
   "outputs": [],
   "source": [
    "transaction"
   ]
  },
  {
   "cell_type": "code",
   "execution_count": null,
   "metadata": {
    "hidden": true
   },
   "outputs": [],
   "source": [
    "trans_kept_year = [str(c) for c in list(range(2015,2021))]\n",
    "trans_kept_years_cols = [c for c in transaction.columns if c[-4:] in trans_kept_year]\n",
    "transaction_v2 = transaction[[\"org_id\"] +trans_kept_years_cols].copy()\n",
    "transaction_v2.dropna(inplace = True)\n",
    "transaction_v2"
   ]
  },
  {
   "cell_type": "markdown",
   "metadata": {
    "heading_collapsed": true
   },
   "source": [
    "## Donor"
   ]
  },
  {
   "cell_type": "code",
   "execution_count": null,
   "metadata": {
    "hidden": true
   },
   "outputs": [],
   "source": [
    "donor.year = donor.year.astype(str)\n",
    "donor = donor.pivot(index = [\"org_id\"], \n",
    "                     columns = [\"year\"],\n",
    "                     values = [c for c in donor.columns if c not in [\"org_id\",\"year\"]]).reset_index()\n",
    "donor.columns = [\"_\".join(x) if x[0] !=\"org_id\" else x[0] for x in donor.columns.ravel()]"
   ]
  },
  {
   "cell_type": "code",
   "execution_count": null,
   "metadata": {
    "hidden": true
   },
   "outputs": [],
   "source": [
    "donor"
   ]
  },
  {
   "cell_type": "code",
   "execution_count": null,
   "metadata": {
    "hidden": true
   },
   "outputs": [],
   "source": [
    "donor_kept_year = [str(c) for c in list(range(2018,2021))]\n",
    "donor_kept_years_cols = [c for c in donor.columns if c[-4:] in donor_kept_year]\n",
    "donor_v2 = donor[[\"org_id\"] +donor_kept_years_cols].copy()\n",
    "donor_v2.dropna(inplace = True)\n",
    "donor_v2"
   ]
  },
  {
   "cell_type": "markdown",
   "metadata": {
    "heading_collapsed": true
   },
   "source": [
    "# Join Data"
   ]
  },
  {
   "cell_type": "code",
   "execution_count": null,
   "metadata": {
    "hidden": true
   },
   "outputs": [],
   "source": [
    "org_features = pd.merge(transaction_v2, ticket, on = \"org_id\")"
   ]
  },
  {
   "cell_type": "code",
   "execution_count": null,
   "metadata": {
    "hidden": true
   },
   "outputs": [],
   "source": [
    "org_features = pd.merge(donor_v2, org_features, on = \"org_id\")"
   ]
  },
  {
   "cell_type": "code",
   "execution_count": null,
   "metadata": {
    "hidden": true
   },
   "outputs": [],
   "source": [
    "kept_years = [str(c) for c in list(range(2015,2021))]\n",
    "kept_years_cols = [c for c in org_features.columns if c[-4:] in kept_years]\n",
    "kept_years_cols"
   ]
  },
  {
   "cell_type": "code",
   "execution_count": null,
   "metadata": {
    "hidden": true
   },
   "outputs": [],
   "source": [
    "org_features.columns"
   ]
  },
  {
   "cell_type": "code",
   "execution_count": null,
   "metadata": {
    "hidden": true
   },
   "outputs": [],
   "source": [
    "len(org_features.columns)"
   ]
  },
  {
   "cell_type": "code",
   "execution_count": null,
   "metadata": {
    "hidden": true
   },
   "outputs": [],
   "source": [
    "org_features = org_features[[\"org_id\"]+kept_years_cols].copy()"
   ]
  },
  {
   "cell_type": "code",
   "execution_count": null,
   "metadata": {
    "hidden": true
   },
   "outputs": [],
   "source": [
    "org_features.dropna(axis = 1, inplace = True)"
   ]
  },
  {
   "cell_type": "code",
   "execution_count": null,
   "metadata": {
    "hidden": true
   },
   "outputs": [],
   "source": [
    "org_features.to_csv(\"pca_all_cols.csv\")"
   ]
  },
  {
   "cell_type": "markdown",
   "metadata": {},
   "source": [
    "# Generate PCA"
   ]
  },
  {
   "cell_type": "code",
   "execution_count": null,
   "metadata": {},
   "outputs": [],
   "source": [
    "def label_point(x, y, val, ax):\n",
    "    a = pd.concat({'x': x, 'y': y, 'val': val}, axis=1)\n",
    "    for i, point in a.iterrows():\n",
    "        ax.text(point['x']+.1, point['y']+.1, str(point['val']),fontsize= 15)\n",
    "\n",
    "def pca_plot(df_plot, figsize, xlim, ylim, title, figtitle):\n",
    "    fig , ax1 = plt.subplots(figsize=figsize)\n",
    "\n",
    "    ax1.set_xlim(xlim[0],xlim[1])\n",
    "    ax1.set_ylim(ylim[0],ylim[1])\n",
    "\n",
    "    # Plot Principal Components 1 and 2\n",
    "    sns.scatterplot(x = \"PC1\", y = \"PC2\",data = df_plot, s = 100)\n",
    "\n",
    "    # Plot reference lines\n",
    "    ax1.hlines(0,xlim[0],xlim[1], linestyles='dotted', colors='grey')\n",
    "    ax1.vlines(0,ylim[0],ylim[1], linestyles='dotted', colors='grey')\n",
    "    ax1.tick_params(axis='x', labelsize=15)\n",
    "    ax1.tick_params(axis='y', labelsize=15)\n",
    "#     ax1.set_xticklabels(labels = x_label, fontsize = 15)\n",
    "\n",
    "    ax1.set_xlabel('First Principal Component',fontsize= 15)\n",
    "    ax1.set_ylabel('Second Principal Component',fontsize= 15)\n",
    "    ax1.set_title(title,fontsize= 20)\n",
    "    label_point(df_plot.PC1, df_plot.PC2, df_plot.org_id, plt.gca())  \n",
    "    fig.savefig(f'PCA/{figtitle}.png',bbox_inches='tight')"
   ]
  },
  {
   "cell_type": "markdown",
   "metadata": {},
   "source": [
    "## All Data"
   ]
  },
  {
   "cell_type": "markdown",
   "metadata": {},
   "source": [
    "### PCA Plot"
   ]
  },
  {
   "cell_type": "code",
   "execution_count": null,
   "metadata": {},
   "outputs": [],
   "source": [
    "pca = PCA()\n",
    "data = org_features.drop(\"org_id\", axis =1)\n",
    "data = pd.DataFrame(scale(data), index=data.index, columns=data.columns)\n",
    "df_plot = pd.DataFrame(pca.fit_transform(data), \n",
    "                       columns=['PC'+str(i+1) for i in range(8)], \n",
    "                       index=data.index)\n",
    "sim_df = pd.concat([org_features,df_plot], axis = 1)\n",
    "pca_plot(sim_df, \n",
    "         figsize = (10,10),\n",
    "         xlim = (-15, 15), \n",
    "         ylim = (-15,15),\n",
    "         title = \"PCA of 8 Organizations with All Features by Year\",\n",
    "         figtitle = \"PCA_all_data\")"
   ]
  },
  {
   "cell_type": "markdown",
   "metadata": {},
   "source": [
    "### PCA  Loadings"
   ]
  },
  {
   "cell_type": "code",
   "execution_count": null,
   "metadata": {},
   "outputs": [],
   "source": [
    "pca_loadings = pd.DataFrame(PCA().fit(data).components_.T, \n",
    "                            index=data.columns, \n",
    "                            columns=['V'+str(i+1) for i in range(8)])"
   ]
  },
  {
   "cell_type": "markdown",
   "metadata": {},
   "source": [
    "## Transaction "
   ]
  },
  {
   "cell_type": "code",
   "execution_count": null,
   "metadata": {},
   "outputs": [],
   "source": [
    "def label_point_trans(x, y, val, ax):\n",
    "    a = pd.concat({'x': x, 'y': y, 'val': val}, axis=1)\n",
    "    for i, point in a.iterrows():\n",
    "        if point['val'] == 'NCSU':\n",
    "            ax.text(point['x']-1, point['y']+.1, str(point['val']),fontsize= 15)\n",
    "        elif point['val'] == 'BAYLOR':\n",
    "            ax.text(point['x']+.2, point['y']-0.15, str(point['val']),fontsize= 15)\n",
    "        elif point['val'] == 'ARMY':\n",
    "            ax.text(point['x']-2, point['y']-0.05, str(point['val']),fontsize= 15)\n",
    "        elif point['val'] == 'COLORADO':\n",
    "            ax.text(point['x']+.2, point['y']-0.01, str(point['val']),fontsize= 15)\n",
    "        else:\n",
    "            ax.text(point['x']+.1, point['y']+.1, str(point['val']),fontsize= 15)\n",
    "\n",
    "def pca_plot_trans(df_plot, figsize, xlim, ylim, title,figtitle):\n",
    "    fig , ax1 = plt.subplots(figsize=figsize)\n",
    "\n",
    "    ax1.set_xlim(xlim[0],xlim[1])\n",
    "    ax1.set_ylim(ylim[0],ylim[1])\n",
    "\n",
    "    # Plot Principal Components 1 and 2\n",
    "    sns.scatterplot(x = \"PC1\", y = \"PC2\",data = df_plot, s = 100)\n",
    "\n",
    "    # Plot reference lines\n",
    "    ax1.hlines(0,xlim[0],xlim[1], linestyles='dotted', colors='grey')\n",
    "    ax1.vlines(0,ylim[0],ylim[1], linestyles='dotted', colors='grey')\n",
    "    ax1.tick_params(axis='x', labelsize=15)\n",
    "    ax1.tick_params(axis='y', labelsize=15)\n",
    "#     ax1.set_xticklabels(labels = x_label, fontsize = 15)\n",
    "\n",
    "    ax1.set_xlabel('First Principal Component',fontsize= 20)\n",
    "    ax1.set_ylabel('Second Principal Component',fontsize= 20)\n",
    "    ax1.set_title(title, fontsize= 20)\n",
    "    label_point_trans(df_plot.PC1, df_plot.PC2, df_plot.org_id, plt.gca())  \n",
    "    fig.savefig(f'PCA/{figtitle}.png',bbox_inches='tight')"
   ]
  },
  {
   "cell_type": "code",
   "execution_count": null,
   "metadata": {},
   "outputs": [],
   "source": [
    "pca = PCA()\n",
    "data_trans = transaction_v2.drop(\"org_id\", axis =1)\n",
    "data_trans = pd.DataFrame(scale(data_trans), index=data_trans.index, columns=data_trans.columns)\n",
    "df_plot_trans = pd.DataFrame(pca.fit_transform(data_trans), \n",
    "                       columns=['PC'+str(i+1) for i in range(min(len(data_trans),len(data_trans.columns)))], \n",
    "                       index=data_trans.index)\n",
    "sim_df_trans = pd.concat([transaction_v2,df_plot_trans], axis = 1)\n",
    "pca_plot_trans(sim_df_trans,\n",
    "               figsize=(13,13), \n",
    "               xlim = (-15,15), \n",
    "               ylim = (-6,10), \n",
    "               title = \"PCA of 21 Organizations with \\nTransaction-Related Features by Year\",\n",
    "               figtitle = \"PCA_transaction\")"
   ]
  },
  {
   "cell_type": "code",
   "execution_count": null,
   "metadata": {},
   "outputs": [],
   "source": [
    "transaction_v2.to_csv(\"pca_transaction_cols.csv\")"
   ]
  },
  {
   "cell_type": "code",
   "execution_count": null,
   "metadata": {},
   "outputs": [],
   "source": [
    "len(transaction_v2.columns)"
   ]
  },
  {
   "cell_type": "markdown",
   "metadata": {},
   "source": [
    "## Donor"
   ]
  },
  {
   "cell_type": "code",
   "execution_count": null,
   "metadata": {},
   "outputs": [],
   "source": [
    "def label_point_donor(x, y, val, ax):\n",
    "    a = pd.concat({'x': x, 'y': y, 'val': val}, axis=1)\n",
    "    for i, point in a.iterrows():\n",
    "        if point['val'] == 'FRESNO':\n",
    "            ax.text(point['x']-1, point['y']+.1, str(point['val']),fontsize= 18)\n",
    "        else:\n",
    "            ax.text(point['x']+.1, point['y']+.1, str(point['val']),fontsize= 15)\n",
    "\n",
    "def pca_plot_donor(df_plot, figsize, xlim, ylim, title,figtitle):\n",
    "    fig , ax1 = plt.subplots(figsize=figsize)\n",
    "\n",
    "    ax1.set_xlim(xlim[0],xlim[1])\n",
    "    ax1.set_ylim(ylim[0],ylim[1])\n",
    "\n",
    "    # Plot Principal Components 1 and 2\n",
    "    sns.scatterplot(x = \"PC1\", y = \"PC2\",data = df_plot, s = 100)\n",
    "\n",
    "    # Plot reference lines\n",
    "    ax1.hlines(0,xlim[0],xlim[1], linestyles='dotted', colors='grey')\n",
    "    ax1.vlines(0,ylim[0],ylim[1], linestyles='dotted', colors='grey')\n",
    "    ax1.tick_params(axis='x', labelsize=15)\n",
    "    ax1.tick_params(axis='y', labelsize=15)\n",
    "#     ax1.set_xticklabels(labels = x_label, fontsize = 15)\n",
    "\n",
    "    ax1.set_xlabel('First Principal Component',fontsize= 20)\n",
    "    ax1.set_ylabel('Second Principal Component',fontsize= 20)\n",
    "    ax1.set_title(title, fontsize= 20)\n",
    "    label_point_donor(df_plot.PC1, df_plot.PC2, df_plot.org_id, plt.gca())  \n",
    "    fig.savefig(f'PCA/{figtitle}.png',bbox_inches='tight')"
   ]
  },
  {
   "cell_type": "code",
   "execution_count": null,
   "metadata": {},
   "outputs": [],
   "source": [
    "donor_v2.columns"
   ]
  },
  {
   "cell_type": "code",
   "execution_count": null,
   "metadata": {},
   "outputs": [],
   "source": [
    "len(donor_v2.columns)"
   ]
  },
  {
   "cell_type": "code",
   "execution_count": null,
   "metadata": {},
   "outputs": [],
   "source": [
    "pca = PCA()\n",
    "data_donor = donor_v2.drop(\"org_id\", axis =1)\n",
    "data_donor = pd.DataFrame(scale(data_donor), index=data_donor.index, columns=data_donor.columns)\n",
    "df_plot_donor = pd.DataFrame(pca.fit_transform(data_donor), \n",
    "                       columns=['PC'+str(i+1) for i in range(min(len(data_donor),len(data_donor.columns)))], \n",
    "                       index=data_donor.index)\n",
    "sim_df_donor = pd.concat([donor_v2,df_plot_donor], axis = 1)\n",
    "pca_plot_donor(sim_df_donor,\n",
    "         figsize=(10,13), \n",
    "         xlim = (-8,10), \n",
    "         ylim = (-7,8), \n",
    "         title = \"PCA of 12 Organizations with \\n Donation-Related Features by Year\",\n",
    "         figtitle = \"PCA_donor\")"
   ]
  },
  {
   "cell_type": "code",
   "execution_count": null,
   "metadata": {},
   "outputs": [],
   "source": [
    "donor_v2.to_csv(\"pca_donor_col.csv\")"
   ]
  },
  {
   "cell_type": "code",
   "execution_count": null,
   "metadata": {},
   "outputs": [],
   "source": [
    "donor_v2.columns\n"
   ]
  },
  {
   "cell_type": "markdown",
   "metadata": {},
   "source": [
    "## Ticket"
   ]
  },
  {
   "cell_type": "code",
   "execution_count": null,
   "metadata": {},
   "outputs": [],
   "source": [
    "pca = PCA()\n",
    "data_ticket = ticket.drop(\"org_id\", axis =1)\n",
    "data_ticket = pd.DataFrame(scale(data_ticket), index=data_ticket.index, columns=data_ticket.columns)\n",
    "df_plot_ticket = pd.DataFrame(pca.fit_transform(data_ticket), \n",
    "                       columns=['PC'+str(i+1) for i in range(min(len(data_ticket),len(data_ticket.columns)))], \n",
    "                       index=data_ticket.index)\n",
    "sim_df_ticket = pd.concat([ticket,df_plot_ticket], axis = 1)\n",
    "pca_plot(sim_df_ticket, \n",
    "         figsize=(15,10), \n",
    "         xlim = (-10,10), ylim = (-5,10), \n",
    "         title = \"PCA of 15 Organizations with Ticketing-Related Features by Year\",\n",
    "         figtitle = \"PCA_ticket\")"
   ]
  },
  {
   "cell_type": "code",
   "execution_count": null,
   "metadata": {},
   "outputs": [],
   "source": [
    "ticket.to_csv(\"pca_ticket_col.csv\")"
   ]
  },
  {
   "cell_type": "code",
   "execution_count": null,
   "metadata": {},
   "outputs": [],
   "source": [
    "len(ticket.columns)"
   ]
  }
 ],
 "metadata": {
  "kernelspec": {
   "display_name": "Python 3",
   "language": "python",
   "name": "python3"
  },
  "language_info": {
   "codemirror_mode": {
    "name": "ipython",
    "version": 3
   },
   "file_extension": ".py",
   "mimetype": "text/x-python",
   "name": "python",
   "nbconvert_exporter": "python",
   "pygments_lexer": "ipython3",
   "version": "3.7.4"
  },
  "toc": {
   "base_numbering": 1,
   "nav_menu": {},
   "number_sections": true,
   "sideBar": true,
   "skip_h1_title": false,
   "title_cell": "Table of Contents",
   "title_sidebar": "Contents",
   "toc_cell": false,
   "toc_position": {},
   "toc_section_display": true,
   "toc_window_display": false
  }
 },
 "nbformat": 4,
 "nbformat_minor": 4
}

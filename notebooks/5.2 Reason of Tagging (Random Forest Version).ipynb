{
 "cells": [
  {
   "cell_type": "markdown",
   "metadata": {},
   "source": [
    "# Random Forest Analysis"
   ]
  },
  {
   "cell_type": "code",
   "execution_count": null,
   "metadata": {
    "id": "x5mX6Snmxrjn"
   },
   "outputs": [],
   "source": [
    "import pandas as pd\n",
    "import numpy as np\n",
    "from matplotlib import pyplot as plt\n",
    "from collections import defaultdict\n",
    "from sklearn.model_selection import train_test_split\n",
    "import ast\n",
    "import statsmodels.api as sm\n",
    "from scipy import stats\n",
    "from sklearn import model_selection\n",
    "from sklearn.ensemble import RandomForestRegressor\n",
    "from sklearn.model_selection import cross_val_score\n",
    "from sklearn.metrics import classification_report, confusion_matrix\n",
    "from sklearn.metrics import roc_auc_score\n",
    "from sklearn.metrics import roc_curve\n",
    "import matplotlib.pyplot as pyplot\n",
    "from sklearn.ensemble import RandomForestClassifier\n",
    "from sklearn.metrics import r2_score\n",
    "from sklearn.datasets import fetch_openml\n",
    "from sklearn.impute import SimpleImputer\n",
    "from sklearn.inspection import permutation_importance\n",
    "from sklearn.compose import ColumnTransformer\n",
    "from sklearn.model_selection import train_test_split\n",
    "from sklearn.pipeline import Pipeline\n",
    "from sklearn.preprocessing import OneHotEncoder"
   ]
  },
  {
   "cell_type": "markdown",
   "metadata": {
    "id": "OR44POflxrjr"
   },
   "source": [
    "# Choose the Organization of Interest"
   ]
  },
  {
   "cell_type": "code",
   "execution_count": null,
   "metadata": {
    "id": "w7ZafMfpxrjs"
   },
   "outputs": [],
   "source": [
    "org = \"USC\""
   ]
  },
  {
   "cell_type": "markdown",
   "metadata": {
    "id": "iFSIimzzxrjw"
   },
   "source": [
    "# Load Account Data"
   ]
  },
  {
   "cell_type": "code",
   "execution_count": null,
   "metadata": {
    "id": "HKsY9vYOxrjx"
   },
   "outputs": [],
   "source": [
    "# Load Account Data For a Specific Organization\n",
    "\n",
    "account = pd.read_csv(\"../sample_data/other_samples/acc_tags_set.csv\")\n",
    "account = account[account.org_id==org].copy()\n",
    "#account.drop(columns = [\"nan_tag\"], inplace = True)\n",
    "\n",
    "interested_tags = set()\n",
    "acc_tag_dict = defaultdict(int)\n",
    "for i in range(len(account)):\n",
    "    tag_list = ast.literal_eval(account.tags.iloc[i])\n",
    "    for t in tag_list:\n",
    "        acc_tag_dict[t]+=1\n",
    "        interested_tags.add(t)\n",
    "account_per_tag = []\n",
    "for k,v in acc_tag_dict.items():\n",
    "    account_per_tag.append({\"tag\":k,\"counts\":v })\n",
    "account_per_tag = pd.DataFrame(account_per_tag)"
   ]
  },
  {
   "cell_type": "markdown",
   "metadata": {
    "id": "QU7VBnEjxrjx"
   },
   "source": [
    "# Load Seasonal Ticket Data"
   ]
  },
  {
   "cell_type": "code",
   "execution_count": null,
   "metadata": {
    "colab": {
     "base_uri": "https://localhost:8080/",
     "height": 379
    },
    "id": "VQr-75ulxrjy",
    "outputId": "f4672025-dadf-48db-a640-5bb0127241f0"
   },
   "outputs": [],
   "source": [
    "ticket_season = pd.read_csv(f\"../sample_data/other_samples/{org}_ticket_trans_item_event.csv\")"
   ]
  },
  {
   "cell_type": "code",
   "execution_count": null,
   "metadata": {
    "id": "jpXzzqPrxrjy"
   },
   "outputs": [],
   "source": [
    "ticket_season = ticket_season[ticket_season.org_id.isin([org])].copy()\n",
    "ticket_orgs = ticket_season.org_id.unique()"
   ]
  },
  {
   "cell_type": "markdown",
   "metadata": {
    "id": "XMAQffNaxrjz"
   },
   "source": [
    "# Preprocess Data"
   ]
  },
  {
   "cell_type": "markdown",
   "metadata": {
    "id": "e4CWic9_xrj3"
   },
   "source": [
    "## Only select the tags that have been assigned to more than 100 accounts"
   ]
  },
  {
   "cell_type": "code",
   "execution_count": null,
   "metadata": {
    "id": "aaoo1E9Yxrj4"
   },
   "outputs": [],
   "source": [
    "useful_tags = []\n",
    "error_tags = []\n",
    "# method = \"logit\"\n",
    "\n",
    "for i,tag in enumerate(interested_tags):\n",
    "    if type(tag)==str and account_per_tag[account_per_tag.tag==tag].iloc[0][\"counts\"] >100:\n",
    "        useful_tags.append(tag)"
   ]
  },
  {
   "cell_type": "markdown",
   "metadata": {
    "id": "NZh8LFOaxrj4"
   },
   "source": [
    "## Pivot Wide Table so that each column is a season of the organization"
   ]
  },
  {
   "cell_type": "code",
   "execution_count": null,
   "metadata": {
    "id": "9VNfrXjdxrj5"
   },
   "outputs": [],
   "source": [
    "ticket_season_org = ticket_season[[\"account_id\",\"org_id\",\"season\",\"total_epay\",\n",
    "                                   \"e_oqty\"]].groupby([\"account_id\",\"org_id\",\n",
    "                                                       \"season\"]).sum().reset_index()\n",
    "ticket_season_org = ticket_season_org.pivot_table(index = [\"account_id\",\"org_id\"], \n",
    "                           columns = [\"season\"],\n",
    "                           values = [\"total_epay\",\"e_oqty\"]).fillna(0)\n",
    "ticket_season_org.columns = [\"_\".join(x) if x[0] not in [\"account_id\",\"org_id\"] else x[0] for x in ticket_season_org.columns.ravel()]\n",
    "temp = pd.merge(account,ticket_season_org, on = [\"account_id\",\"org_id\"], how = \"inner\")\n",
    "temp.fillna(0,inplace = True)"
   ]
  },
  {
   "cell_type": "markdown",
   "metadata": {
    "id": "JmN7Orxe5CLP"
   },
   "source": [
    "# Random Forest"
   ]
  },
  {
   "cell_type": "code",
   "execution_count": null,
   "metadata": {},
   "outputs": [],
   "source": [
    "def get_roc(testy, pred_y, org , tag):\n",
    "    ns_probs = [0 for _ in range(len(testy))]\n",
    "    # calculate scores\n",
    "    ns_auc = roc_auc_score(testy, ns_probs)\n",
    "    lr_auc = roc_auc_score(testy, pred_y)\n",
    "    # summarize scores\n",
    "    print('No Skill: ROC AUC=%.3f' % (ns_auc))\n",
    "    print('Logistic: ROC AUC=%.3f' % (lr_auc))\n",
    "    # calculate roc curves\n",
    "    ns_fpr, ns_tpr, _ = roc_curve(testy, ns_probs)\n",
    "    lr_fpr, lr_tpr, _ = roc_curve(testy, pred_y)\n",
    "    return lr_auc,ns_fpr, ns_tpr,lr_fpr, lr_tpr\n",
    "\n",
    "def plot_roc(ns_fpr, ns_tpr,lr_fpr, lr_tpr, tag, org):\n",
    "    \n",
    "    colors = [\"#2CBDFE\",\"#47DBCD\",\"#F3A0F2\",\"#9D2EC5\",\"#F5B14C\"]\n",
    "    # plot the roc curve for the model\n",
    "    for i,(lf, lt,color) in enumerate(zip(lr_fpr, lr_tpr, colors)):      \n",
    "        pyplot.plot(lf, lt, marker='.', label=f'CV {i+1}', color=color )\n",
    "    pyplot.plot(ns_fpr[0], ns_tpr[0], linestyle='dashdot', label='Logistic',color = \"black\")\n",
    "    # axis labels\n",
    "    pyplot.xlabel('False Positive Rate')\n",
    "    pyplot.ylabel('True Positive Rate')\n",
    "    # show the legend\n",
    "    pyplot.legend()\n",
    "    \n",
    "    pyplot.title(f\"ROC Curve for Tag {tag} in {org}\")\n",
    "    # save image\n",
    "    pyplot.savefig(f'../outputs/Random Forest/{org}_{tag}_ROC.png',bbox_inches='tight')\n",
    "    \n",
    "    # show the plot\n",
    "    \n",
    "    pyplot.show()\n",
    "#     return lr_auc"
   ]
  },
  {
   "cell_type": "code",
   "execution_count": null,
   "metadata": {},
   "outputs": [],
   "source": [
    "def calculate_season_rf(tag,org):\n",
    "    '''Get 5-fold Cross Validation Result for Random Forest in predicting whether the accounts\n",
    "    in a selected organization are assigned a selected tag.\n",
    "    Get the account and ticket data from previous codes to avoid copying too many data and crashing the session\n",
    "    '''\n",
    "    print(\"Selected Tag:\", tag)\n",
    "#     ----------------------------------Preprocess Data ----------------------------------\n",
    "#     Ticket Season: Number of Columns\n",
    "    print(\"old columns number:\",len(ticket_season_org.columns))\n",
    "    \n",
    "#     Account Data: Create Target Column to indicate whether and again return 0 if \n",
    "    tag_account = account.copy()\n",
    "    tag_account[\"tag\"] = tag_account.tags.str.contains(tag).fillna(False)\n",
    "    tag_num = len(tag_account[tag_account.tag])\n",
    "    if tag_num<100:\n",
    "        return 0\n",
    "    \n",
    "#     Merge Account + Ticket Season    \n",
    "    temp = pd.merge(tag_account,ticket_season_org, on = [\"account_id\",\"org_id\"], how = \"left\")\n",
    "    total_number_of_account = len(temp)\n",
    "    total_number_of_acc_w_tag = len(temp[temp.tag])\n",
    "    print(\"total number of accounts labeled with tag:\", total_number_of_acc_w_tag)\n",
    "    print(\"total number of accounts: \",total_number_of_account)\n",
    "    print(\"percentage of tags:\",total_number_of_acc_w_tag/total_number_of_account)\n",
    "    \n",
    "    if len(temp[temp.tag])<100:     \n",
    "        return 0\n",
    "    \n",
    "    temp.fillna(0,inplace = True)   \n",
    "    \n",
    "#     Drop Season Columns if fewer than 1000 accounts have bought relevant tickets:\n",
    "    temp[\"intercept\"] = 1\n",
    "    temp.drop(columns = [\"tags\"], inplace = True)\n",
    "    drop_cols = []\n",
    "    for c in temp.columns:\n",
    "        if c not in [\"account_id\",\"org_id\",'tag']:\n",
    "            if len(temp[temp[c]>0])<1000:\n",
    "                drop_cols.append(c)\n",
    "    print(drop_cols)\n",
    "    temp.drop(columns = drop_cols, inplace = True)\n",
    "    \n",
    "#     The X variable Columns\n",
    "    xs = [c for c in temp.columns if c not in [\"account_id\",\"org_id\",'tag']]\n",
    "    print(\"new columns number:\",len(xs))\n",
    "\n",
    "#     Randomize the dataframe with sample and fraction = 1 and replace = False\n",
    "    np.random.seed(0)\n",
    "    temp = temp.sample(frac=1).reset_index(drop=True)\n",
    "    \n",
    "#     random forest\n",
    "    overall_result=RandomForestClassifier().fit(temp[xs],temp.tag)\n",
    "    \n",
    "#    -------------------------------------------------------------------------------------------    \n",
    "#     ------------------5-FOLD Cross Validation Data Preprocess-------------------\n",
    "\n",
    "#     Split the data with tag from no tag for future 5-fold splitting\n",
    "    temp_tag = temp[temp.tag].copy()\n",
    "    temp = temp[~temp.tag]\n",
    "\n",
    "#     # Tags Train Split - index\n",
    "    arr_tags = np.arange(len(temp_tag))\n",
    "    np.random.seed(0)\n",
    "    np.random.shuffle(arr_tags)\n",
    "    arr_tags=np.array_split(arr_tags, 5)\n",
    "    \n",
    "#     # Not Tags Train Split - index\n",
    "    arr_no_tags = np.arange(len(temp))\n",
    "    np.random.seed(0)\n",
    "    np.random.shuffle(arr_no_tags)\n",
    "    arr_no_tags=np.array_split(arr_no_tags, 5)\n",
    "    \n",
    "    temp.reset_index(inplace = True)\n",
    "    temp_tag.reset_index(inplace = True)\n",
    "\n",
    "#     ------------------5-FOLD Cross Validation and Metrics-------------------\n",
    "    \n",
    "    average_mse =0\n",
    "    avg_specificity = 0\n",
    "    avg_sensitivity = 0\n",
    "    avg_f1 = 0\n",
    "    sense_gd=True\n",
    "    spec_gd = True\n",
    "    avg_auc_score=0\n",
    "    ns_fprs, ns_tprs,lr_fprs, lr_tprs = [],[],[],[]\n",
    "    for i,(ari1, ari2) in enumerate(zip(arr_no_tags, arr_tags)):\n",
    "#         Train Test split using the previously prepared indexes in each fold\n",
    "        temp_test = pd.concat([temp.iloc[ari1],\n",
    "                             temp_tag.iloc[ari2]]).reset_index()\n",
    "        temp_tr = pd.concat([temp.drop(ari1,axis =0),\n",
    "                               temp_tag.drop(ari2,axis =0)])\n",
    "        temp_tr = temp_tr.sample(frac=1).reset_index(drop=True)\n",
    "\n",
    "#       Train random forest Model \n",
    "        result=RandomForestClassifier().fit(temp_tr[xs],temp_tr.tag)\n",
    "        \n",
    "        sorted_idx = result.feature_importances_.argsort()\n",
    "        plt.barh([xs[c] for c in sorted_idx], result.feature_importances_[sorted_idx])\n",
    "        plt.xlabel(\"Random Forest Feature Importance\")\n",
    "        plt.show()\n",
    "        predicted = result.predict_proba(temp_test[xs])[:,1]\n",
    "        \n",
    "#        Calculate auc score and plot roc curve\n",
    "\n",
    "        auc_score, ns_fpr,ns_tpr,lr_fpr,lr_tpr = get_roc(temp_test.tag,predicted,org,tag)\n",
    "        ns_fprs.append(ns_fpr)\n",
    "        ns_tprs.append(ns_tpr)\n",
    "        lr_tprs.append(lr_tpr)\n",
    "        lr_fprs.append(lr_fpr)\n",
    "        avg_auc_score+=auc_score\n",
    "        \n",
    "#           Use 0.5 as threshold: <0.5 means no tag; >=0.5 means tag\n",
    "        predicted = np.where(predicted<0.5,0,1)\n",
    "        \n",
    "#         Calculate Measure Metrics:\n",
    "#       mse, true_positive, false_negative,true_negative,false_positive\n",
    "        mse = np.sum((predicted - temp_test.tag)**2)/len( temp_test.tag)\n",
    "\n",
    "        average_mse+=mse\n",
    "        true_positive = 0\n",
    "        false_negative = 0\n",
    "        true_negative = 0\n",
    "        false_positive= 0\n",
    "        \n",
    "        for i in range(len(predicted)):\n",
    "            if predicted[i] and temp_test.tag.iloc[i]:\n",
    "                true_positive+=1\n",
    "            elif not predicted[i] and not temp_test.tag.iloc[i]:\n",
    "                true_negative+=1\n",
    "            elif predicted[i] and not temp_test.tag.iloc[i]:\n",
    "                false_negative+=1\n",
    "            else:\n",
    "                false_positive+=1\n",
    "        print(true_positive,false_negative,true_negative,false_positive)\n",
    "        if true_positive+false_negative!=0:\n",
    "            sensitivity = true_positive/(true_positive+false_negative)\n",
    "            avg_sensitivity+=sensitivity\n",
    "#             print(i,\"sensitivity:\",sensitivity)\n",
    "        else:\n",
    "            sense_gd=False\n",
    "        if true_negative+false_positive!=0:\n",
    "            specificity = true_negative/(true_negative+false_positive) \n",
    "            avg_specificity+=specificity\n",
    "#             print(i,\"specificity:\",specificity)\n",
    "        else:\n",
    "            spec_gd = False\n",
    "            \n",
    "        avg_f1 += true_positive/(true_positive+(false_positive+false_negative)/2)\n",
    "\n",
    "    plot_roc(ns_fprs,ns_tprs,lr_fprs,lr_tprs,tag,org)\n",
    "    if sense_gd:\n",
    "        avg_sensitivity = avg_sensitivity/5\n",
    "        print(\"avg_sensitivity:\",avg_sensitivity)\n",
    "    if spec_gd:\n",
    "        avg_specificity = avg_specificity/5\n",
    "        print(\"avg_specificity:\",avg_specificity)\n",
    "        \n",
    "    avg_f1 = avg_f1/5\n",
    "    print(\"avg_f1 score:\", avg_f1)\n",
    "              \n",
    "    average_mse = average_mse/5\n",
    "    print(\"average_mse score:\", average_mse)\n",
    "    \n",
    "    avg_auc_score = avg_auc_score/5\n",
    "    print(\"avg_auc_score:\",avg_auc_score)\n",
    "    \n",
    "    result = {\"overall_result\":overall_result, \n",
    "              #\"prsquared\": overall_result.prsquared, \n",
    "              \"total_number_of_account\":total_number_of_account,\n",
    "              \"total_number_of_acc_w_tag\":total_number_of_acc_w_tag,\n",
    "              \"Percentage of Tag\": total_number_of_acc_w_tag/total_number_of_account,\n",
    "              \"Correct Percentage\":average_mse,\n",
    "              \"avg_f1\":avg_f1,\n",
    "              \"avg_auc\":avg_auc_score,\n",
    "              \"avg_sensitivity\":avg_sensitivity,\n",
    "              \"avg_specificity\":avg_specificity,\n",
    "              \"sense_gd\":sense_gd, \n",
    "              \"spec_gd\":spec_gd}\n",
    "    #print(\"feature importance plot:\", feature_importance(result))\n",
    "    return result, temp_test"
   ]
  },
  {
   "cell_type": "code",
   "execution_count": null,
   "metadata": {
    "scrolled": true
   },
   "outputs": [],
   "source": [
    "tags_dict = dict()\n",
    "for tag in ['fbbb','fbonly']:\n",
    "    print(tag)\n",
    "    result, temp_test = calculate_season_rf(tag,org)\n",
    "#     print(result)\n",
    "    if result!=0:\n",
    "        tags_dict[tag] = result"
   ]
  },
  {
   "cell_type": "markdown",
   "metadata": {
    "id": "NWWzInOxxrj-"
   },
   "source": [
    "## Format Result (optional)"
   ]
  },
  {
   "cell_type": "code",
   "execution_count": null,
   "metadata": {
    "id": "JYaoA6uExrj-"
   },
   "outputs": [],
   "source": [
    "def format_model_result(tags_dict, sort_by_cols=[\"avg_sensitivity\",\"avg_specificity\"]):\n",
    "    temp = []\n",
    "    for k,v in tags_dict.items():\n",
    "        tags_dict[k][\"tag\"]=k\n",
    "        temp.append(tags_dict[k])\n",
    "    tags_dict = pd.DataFrame(temp)\n",
    "    return tags_dict.sort_values(by = sort_by_cols,ascending = False)"
   ]
  },
  {
   "cell_type": "markdown",
   "metadata": {
    "id": "A2pc78ycxrj_"
   },
   "source": [
    "## Show Result"
   ]
  },
  {
   "cell_type": "code",
   "execution_count": null,
   "metadata": {
    "id": "SCsJT3afxrj_"
   },
   "outputs": [],
   "source": [
    "format_model_result(tags_dict, [\"avg_sensitivity\",\"avg_specificity\"]).to_csv(\n",
    "    f\"../outputs/Random Forest/tag_prediction_result_{org}.csv\")"
   ]
  },
  {
   "cell_type": "code",
   "execution_count": null,
   "metadata": {},
   "outputs": [],
   "source": []
  }
 ],
 "metadata": {
  "colab": {
   "name": "7. Reason of Tagging (Random Forest Version).ipynb",
   "provenance": []
  },
  "kernelspec": {
   "display_name": "Python 3",
   "language": "python",
   "name": "python3"
  },
  "language_info": {
   "codemirror_mode": {
    "name": "ipython",
    "version": 3
   },
   "file_extension": ".py",
   "mimetype": "text/x-python",
   "name": "python",
   "nbconvert_exporter": "python",
   "pygments_lexer": "ipython3",
   "version": "3.7.4"
  },
  "toc": {
   "base_numbering": 1,
   "nav_menu": {},
   "number_sections": true,
   "sideBar": true,
   "skip_h1_title": false,
   "title_cell": "Table of Contents",
   "title_sidebar": "Contents",
   "toc_cell": false,
   "toc_position": {},
   "toc_section_display": true,
   "toc_window_display": false
  }
 },
 "nbformat": 4,
 "nbformat_minor": 1
}

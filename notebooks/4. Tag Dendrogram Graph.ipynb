{
 "cells": [
  {
   "cell_type": "markdown",
   "metadata": {},
   "source": [
    "# Tagging patterns analysis using TF-IDF, cosine similarity, & Clustering"
   ]
  },
  {
   "cell_type": "markdown",
   "metadata": {},
   "source": [
    "# Load Data"
   ]
  },
  {
   "cell_type": "code",
   "execution_count": null,
   "metadata": {},
   "outputs": [],
   "source": [
    "import pandas as pd\n",
    "import matplotlib.pyplot as plt\n",
    "import numpy as np"
   ]
  },
  {
   "cell_type": "code",
   "execution_count": null,
   "metadata": {},
   "outputs": [],
   "source": [
    "tags = pd.read_excel(\"../sample_data/other_samples/tag_subgraphs.xlsx\")"
   ]
  },
  {
   "cell_type": "code",
   "execution_count": null,
   "metadata": {},
   "outputs": [],
   "source": [
    "tag_list = []\n",
    "for c in tags.columns:\n",
    "    tag_list+=tags[c].dropna().tolist()\n",
    "tag_list_index = np.random.choice(len(tag_list) , replace = False, size = 50)\n",
    "new_tag_list = []\n",
    "for t in tag_list_index:\n",
    "    new_tag_list.append(tag_list[t])"
   ]
  },
  {
   "cell_type": "code",
   "execution_count": null,
   "metadata": {},
   "outputs": [],
   "source": [
    "len(set(tag_list))"
   ]
  },
  {
   "cell_type": "markdown",
   "metadata": {},
   "source": [
    "# TF-IDF + Cosine Similarity"
   ]
  },
  {
   "cell_type": "code",
   "execution_count": null,
   "metadata": {},
   "outputs": [],
   "source": [
    "import pandas as pd\n",
    "import re\n",
    "\n",
    "from sklearn.feature_extraction.text import TfidfVectorizer\n",
    "from sklearn.metrics.pairwise import cosine_similarity\n",
    "import scipy.sparse as sparse\n",
    "from ast import literal_eval\n",
    "import time\n",
    "from matplotlib import colors\n",
    "from sklearn.preprocessing import StandardScaler\n",
    "from sklearn.decomposition import PCA\n",
    "from sklearn.preprocessing import scale\n",
    "import seaborn as sns\n",
    "import matplotlib.pyplot as plt\n",
    "\n",
    "from fuzzywuzzy import fuzz\n",
    "from fuzzywuzzy import process"
   ]
  },
  {
   "cell_type": "code",
   "execution_count": null,
   "metadata": {},
   "outputs": [],
   "source": [
    "def tfidf_names(names):\n",
    "    \"\"\" return cosine similarity matrix: CSM[names1_index][names2_index] = cosine similarity score for an entry in names1 and names2.\"\"\"\n",
    "    t1 = time.time()\n",
    "    analyzer = \"char\" #[‘word’, ‘char’, ‘char_wb’]\n",
    "    ngram_range = (2,4) #feature unit: 1 whole word\n",
    "    max_df = 1.0 #default\n",
    "    min_df = 1 #means no lower threshold\n",
    "    binary = False #Take mutiple occurence of a word in name into account\n",
    "    use_idf = True #Take unit importance in the dataset into accout\n",
    "    smooth_idf = True #prevent zero division ?\n",
    "    norm = None #each vector is nomalized so their dot product is cosine similarity\n",
    "    vectorizer = TfidfVectorizer(analyzer = analyzer, ngram_range = ngram_range, max_df = max_df,\n",
    "                            min_df = min_df, binary = binary, use_idf = use_idf, smooth_idf = smooth_idf, norm = norm)\n",
    "    CSM_all_names = vectorizer.fit_transform(names)\n",
    "    preprocessor = vectorizer.build_preprocessor()\n",
    "    t = time.time()-t1\n",
    "    print(\"Match COMPLETED IN:\", t)\n",
    "    return vectorizer, preprocessor, CSM_all_names\n",
    "\n",
    "def handle_tfidf_score(tfidf1, tfidf2):\n",
    "    \"\"\"\n",
    "    Convert tfidf scorrs to similarity scores\n",
    "    RAM intensive\n",
    "    \"\"\"\n",
    "    res_m = cosine_similarity(tfidf1, tfidf2) \n",
    "    return res_m"
   ]
  },
  {
   "cell_type": "code",
   "execution_count": null,
   "metadata": {},
   "outputs": [],
   "source": [
    "_,_,CSM_tags = tfidf_names(new_tag_list)\n",
    "cosine_score = handle_tfidf_score(CSM_tags,CSM_tags)\n",
    "cosine_score = np.where((1-cosine_score)<0.01, 0,(1-cosine_score))"
   ]
  },
  {
   "cell_type": "markdown",
   "metadata": {},
   "source": [
    "# Draw Dendrogram"
   ]
  },
  {
   "cell_type": "code",
   "execution_count": null,
   "metadata": {},
   "outputs": [],
   "source": [
    "from scipy.cluster.hierarchy import dendrogram, linkage\n",
    "from scipy.spatial.distance import squareform\n",
    "import seaborn as sns"
   ]
  },
  {
   "cell_type": "code",
   "execution_count": null,
   "metadata": {},
   "outputs": [],
   "source": [
    "cosine_score = squareform(cosine_score)\n",
    "cosine_score= linkage(cosine_score,\"single\")"
   ]
  },
  {
   "cell_type": "code",
   "execution_count": null,
   "metadata": {},
   "outputs": [],
   "source": [
    "fig , ax1 = plt.subplots(figsize=(20,20))\n",
    "dendrogram(cosine_score, labels = new_tag_list, orientation = \"left\")\n",
    "plt.yticks(fontsize = 20)\n",
    "plt.title(\"Dendrogram of Tags with Cosine Similarity as Distance Score\", fontsize = 25)\n",
    "plt.savefig(\"tag/dendrogram_tag.png\",bbox_inches='tight')"
   ]
  },
  {
   "cell_type": "code",
   "execution_count": null,
   "metadata": {},
   "outputs": [],
   "source": [
    "cosine_score"
   ]
  }
 ],
 "metadata": {
  "kernelspec": {
   "display_name": "Python 3",
   "language": "python",
   "name": "python3"
  },
  "language_info": {
   "codemirror_mode": {
    "name": "ipython",
    "version": 3
   },
   "file_extension": ".py",
   "mimetype": "text/x-python",
   "name": "python",
   "nbconvert_exporter": "python",
   "pygments_lexer": "ipython3",
   "version": "3.7.4"
  },
  "toc": {
   "base_numbering": 1,
   "nav_menu": {},
   "number_sections": true,
   "sideBar": true,
   "skip_h1_title": false,
   "title_cell": "Table of Contents",
   "title_sidebar": "Contents",
   "toc_cell": false,
   "toc_position": {},
   "toc_section_display": true,
   "toc_window_display": false
  }
 },
 "nbformat": 4,
 "nbformat_minor": 4
}

{
 "cells": [
  {
   "cell_type": "code",
   "execution_count": 11,
   "metadata": {},
   "outputs": [],
   "source": [
    "import pandas as pd\n",
    "import matplotlib.pyplot as plt\n",
    "import numpy as np\n",
    "from collections import defaultdict\n",
    "import ast\n",
    "from datetime import datetime"
   ]
  },
  {
   "cell_type": "code",
   "execution_count": 3,
   "metadata": {},
   "outputs": [
    {
     "name": "stderr",
     "output_type": "stream",
     "text": [
      "/opt/anaconda3/lib/python3.7/site-packages/IPython/core/interactiveshell.py:2718: DtypeWarning: Columns (1,3) have mixed types.Specify dtype option on import or set low_memory=False.\n",
      "  interactivity=interactivity, compiler=compiler, result=result)\n"
     ]
    }
   ],
   "source": [
    "accounts = pd.read_csv(\"all_accounts.csv\", \n",
    "                       usecols = [\"client_id\".upper(),\n",
    "                                  \"account_id\".upper(),\n",
    "                                  \"Z_LASTUPDATEDUSERTIMESTAMP\".upper()])"
   ]
  },
  {
   "cell_type": "code",
   "execution_count": 31,
   "metadata": {},
   "outputs": [],
   "source": [
    "def convert_datetime(timestamp):\n",
    "    if type(timestamp) == float and np.isnan(timestamp):\n",
    "        return pd.to_datetime(timestamp)\n",
    "    elif type(timestamp) == str and \"T\" in timestamp:\n",
    "#         print(\"2\",pd.to_datetime(str(pd.to_datetime(timestamp)).replace(\"+00:00\", \"\")).year)\n",
    "        return pd.to_datetime(str(pd.to_datetime(timestamp)).replace(\"+00:00\", \"\")).year\n",
    "    elif type(timestamp) == str and len(timestamp) == 0:\n",
    "\n",
    "        return pd.to_datetime(np.nan)\n",
    "    else:\n",
    "        timestamp = int(timestamp)\n",
    "        if np.isnan(timestamp):\n",
    "            return pd.to_datetime(timestamp)\n",
    "        return  pd.to_datetime(timestamp, unit = \"ms\").year\n",
    "#         return str(datetime.fromtimestamp(timestamp/1000.0)).split(\".\")[0]"
   ]
  },
  {
   "cell_type": "code",
   "execution_count": 47,
   "metadata": {},
   "outputs": [],
   "source": [
    "# accounts[\"year\"] = accounts.Z_LASTUPDATEDUSERTIMESTAMP.apply(convert_datetime)\n",
    "accounts.rename(columns = {\"client_id\".upper():\"org_id\",\n",
    "                           \"account_id\".upper():\"account_id\"}, \n",
    "                inplace = True)"
   ]
  },
  {
   "cell_type": "code",
   "execution_count": 50,
   "metadata": {},
   "outputs": [],
   "source": [
    "accounts_2015 = accounts[accounts.year>2015].copy()"
   ]
  },
  {
   "cell_type": "code",
   "execution_count": 36,
   "metadata": {},
   "outputs": [
    {
     "data": {
      "text/plain": [
       "28"
      ]
     },
     "execution_count": 36,
     "metadata": {},
     "output_type": "execute_result"
    }
   ],
   "source": [
    "len(accounts.CLIENT_ID.unique())"
   ]
  },
  {
   "cell_type": "code",
   "execution_count": 49,
   "metadata": {},
   "outputs": [
    {
     "data": {
      "text/html": [
       "<div>\n",
       "<style scoped>\n",
       "    .dataframe tbody tr th:only-of-type {\n",
       "        vertical-align: middle;\n",
       "    }\n",
       "\n",
       "    .dataframe tbody tr th {\n",
       "        vertical-align: top;\n",
       "    }\n",
       "\n",
       "    .dataframe thead th {\n",
       "        text-align: right;\n",
       "    }\n",
       "</style>\n",
       "<table border=\"1\" class=\"dataframe\">\n",
       "  <thead>\n",
       "    <tr style=\"text-align: right;\">\n",
       "      <th></th>\n",
       "      <th>Z_LASTUPDATEDUSERTIMESTAMP</th>\n",
       "      <th>account_id</th>\n",
       "      <th>org_id</th>\n",
       "      <th>year</th>\n",
       "    </tr>\n",
       "  </thead>\n",
       "  <tbody>\n",
       "    <tr>\n",
       "      <th>0</th>\n",
       "      <td>2020-02-12T04:48:56.147Z</td>\n",
       "      <td>90651</td>\n",
       "      <td>MICH</td>\n",
       "      <td>2020</td>\n",
       "    </tr>\n",
       "    <tr>\n",
       "      <th>1</th>\n",
       "      <td>2020-03-13T18:04:37.636Z</td>\n",
       "      <td>905981334</td>\n",
       "      <td>MICH</td>\n",
       "      <td>2020</td>\n",
       "    </tr>\n",
       "    <tr>\n",
       "      <th>2</th>\n",
       "      <td>2020-02-11T21:34:44.098Z</td>\n",
       "      <td>906262232</td>\n",
       "      <td>MICH</td>\n",
       "      <td>2020</td>\n",
       "    </tr>\n",
       "    <tr>\n",
       "      <th>3</th>\n",
       "      <td>2020-02-12T02:41:21.085Z</td>\n",
       "      <td>90513</td>\n",
       "      <td>MICH</td>\n",
       "      <td>2020</td>\n",
       "    </tr>\n",
       "    <tr>\n",
       "      <th>4</th>\n",
       "      <td>2020-02-12T03:22:45.686Z</td>\n",
       "      <td>905992802</td>\n",
       "      <td>MICH</td>\n",
       "      <td>2020</td>\n",
       "    </tr>\n",
       "    <tr>\n",
       "      <th>...</th>\n",
       "      <td>...</td>\n",
       "      <td>...</td>\n",
       "      <td>...</td>\n",
       "      <td>...</td>\n",
       "    </tr>\n",
       "    <tr>\n",
       "      <th>31728365</th>\n",
       "      <td>2019-02-19T23:48:29.045Z</td>\n",
       "      <td>6792368</td>\n",
       "      <td>MSSTATE</td>\n",
       "      <td>2019</td>\n",
       "    </tr>\n",
       "    <tr>\n",
       "      <th>31728366</th>\n",
       "      <td>2020-03-09T14:10:29.962Z</td>\n",
       "      <td>6792366</td>\n",
       "      <td>MSSTATE</td>\n",
       "      <td>2020</td>\n",
       "    </tr>\n",
       "    <tr>\n",
       "      <th>31728367</th>\n",
       "      <td>2019-02-19T23:48:03.487Z</td>\n",
       "      <td>6789850</td>\n",
       "      <td>MSSTATE</td>\n",
       "      <td>2019</td>\n",
       "    </tr>\n",
       "    <tr>\n",
       "      <th>31728368</th>\n",
       "      <td>2019-02-19T23:47:32.894Z</td>\n",
       "      <td>6781608</td>\n",
       "      <td>MSSTATE</td>\n",
       "      <td>2019</td>\n",
       "    </tr>\n",
       "    <tr>\n",
       "      <th>31728369</th>\n",
       "      <td>2019-10-06T19:36:18.496Z</td>\n",
       "      <td>266223</td>\n",
       "      <td>NEBRASKA</td>\n",
       "      <td>2019</td>\n",
       "    </tr>\n",
       "  </tbody>\n",
       "</table>\n",
       "<p>31728370 rows × 4 columns</p>\n",
       "</div>"
      ],
      "text/plain": [
       "         Z_LASTUPDATEDUSERTIMESTAMP account_id    org_id  year\n",
       "0          2020-02-12T04:48:56.147Z      90651      MICH  2020\n",
       "1          2020-03-13T18:04:37.636Z  905981334      MICH  2020\n",
       "2          2020-02-11T21:34:44.098Z  906262232      MICH  2020\n",
       "3          2020-02-12T02:41:21.085Z      90513      MICH  2020\n",
       "4          2020-02-12T03:22:45.686Z  905992802      MICH  2020\n",
       "...                             ...        ...       ...   ...\n",
       "31728365   2019-02-19T23:48:29.045Z    6792368   MSSTATE  2019\n",
       "31728366   2020-03-09T14:10:29.962Z    6792366   MSSTATE  2020\n",
       "31728367   2019-02-19T23:48:03.487Z    6789850   MSSTATE  2019\n",
       "31728368   2019-02-19T23:47:32.894Z    6781608   MSSTATE  2019\n",
       "31728369   2019-10-06T19:36:18.496Z     266223  NEBRASKA  2019\n",
       "\n",
       "[31728370 rows x 4 columns]"
      ]
     },
     "execution_count": 49,
     "metadata": {},
     "output_type": "execute_result"
    }
   ],
   "source": [
    "accounts"
   ]
  },
  {
   "cell_type": "code",
   "execution_count": 51,
   "metadata": {},
   "outputs": [],
   "source": [
    "accounts_yearly_num = accounts_2015.groupby([\"year\",\"org_id\"]).size().reset_index()"
   ]
  },
  {
   "cell_type": "code",
   "execution_count": 38,
   "metadata": {},
   "outputs": [
    {
     "data": {
      "text/plain": [
       "31578450"
      ]
     },
     "execution_count": 38,
     "metadata": {},
     "output_type": "execute_result"
    }
   ],
   "source": [
    "len(accounts_2015)"
   ]
  },
  {
   "cell_type": "code",
   "execution_count": 60,
   "metadata": {},
   "outputs": [
    {
     "data": {
      "text/html": [
       "<div>\n",
       "<style scoped>\n",
       "    .dataframe tbody tr th:only-of-type {\n",
       "        vertical-align: middle;\n",
       "    }\n",
       "\n",
       "    .dataframe tbody tr th {\n",
       "        vertical-align: top;\n",
       "    }\n",
       "\n",
       "    .dataframe thead th {\n",
       "        text-align: right;\n",
       "    }\n",
       "</style>\n",
       "<table border=\"1\" class=\"dataframe\">\n",
       "  <thead>\n",
       "    <tr style=\"text-align: right;\">\n",
       "      <th></th>\n",
       "      <th>year</th>\n",
       "      <th>org_id</th>\n",
       "      <th>0</th>\n",
       "    </tr>\n",
       "  </thead>\n",
       "  <tbody>\n",
       "    <tr>\n",
       "      <th>12</th>\n",
       "      <td>2018</td>\n",
       "      <td>NCSU</td>\n",
       "      <td>241317</td>\n",
       "    </tr>\n",
       "    <tr>\n",
       "      <th>29</th>\n",
       "      <td>2019</td>\n",
       "      <td>NCSU</td>\n",
       "      <td>107790</td>\n",
       "    </tr>\n",
       "    <tr>\n",
       "      <th>57</th>\n",
       "      <td>2020</td>\n",
       "      <td>NCSU</td>\n",
       "      <td>623682</td>\n",
       "    </tr>\n",
       "    <tr>\n",
       "      <th>76</th>\n",
       "      <td>2021</td>\n",
       "      <td>NCSU</td>\n",
       "      <td>153719</td>\n",
       "    </tr>\n",
       "  </tbody>\n",
       "</table>\n",
       "</div>"
      ],
      "text/plain": [
       "    year org_id       0\n",
       "12  2018   NCSU  241317\n",
       "29  2019   NCSU  107790\n",
       "57  2020   NCSU  623682\n",
       "76  2021   NCSU  153719"
      ]
     },
     "execution_count": 60,
     "metadata": {},
     "output_type": "execute_result"
    }
   ],
   "source": [
    "accounts_yearly_num[accounts_yearly_num.org_id==\"NCSU\"]"
   ]
  },
  {
   "cell_type": "code",
   "execution_count": 43,
   "metadata": {},
   "outputs": [],
   "source": [
    "accounts.rename(columns = {\"client_id\":\"org_id\"}, \n",
    "                inplace = True)"
   ]
  },
  {
   "cell_type": "code",
   "execution_count": null,
   "metadata": {},
   "outputs": [],
   "source": [
    "chunk[\"Z_LASTUPDATEDUSERTIMESTAMP\"] =chunk.Z_LASTUPDATEDUSERTIMESTAMP.apply(convert_datetime)"
   ]
  }
 ],
 "metadata": {
  "kernelspec": {
   "display_name": "Python 3",
   "language": "python",
   "name": "python3"
  },
  "language_info": {
   "codemirror_mode": {
    "name": "ipython",
    "version": 3
   },
   "file_extension": ".py",
   "mimetype": "text/x-python",
   "name": "python",
   "nbconvert_exporter": "python",
   "pygments_lexer": "ipython3",
   "version": "3.7.6"
  },
  "toc": {
   "base_numbering": 1,
   "nav_menu": {},
   "number_sections": true,
   "sideBar": true,
   "skip_h1_title": false,
   "title_cell": "Table of Contents",
   "title_sidebar": "Contents",
   "toc_cell": false,
   "toc_position": {},
   "toc_section_display": true,
   "toc_window_display": false
  }
 },
 "nbformat": 4,
 "nbformat_minor": 4
}

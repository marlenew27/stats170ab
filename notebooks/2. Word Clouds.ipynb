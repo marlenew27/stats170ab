{
 "cells": [
  {
   "cell_type": "markdown",
   "metadata": {},
   "source": [
    "# Generating Word Clouds"
   ]
  },
  {
   "cell_type": "code",
   "execution_count": null,
   "metadata": {},
   "outputs": [],
   "source": [
    "!pip install wordcloud\n",
    "\n",
    "import pandas as pd\n",
    "import matplotlib.pyplot as plt\n",
    "import numpy as np\n",
    "from collections import defaultdict\n",
    "import ast\n",
    "from wordcloud import WordCloud, STOPWORDS"
   ]
  },
  {
   "cell_type": "code",
   "execution_count": null,
   "metadata": {},
   "outputs": [],
   "source": [
    "# Used for querying the completed data from s3 -> check the html verison for the completed data outputs\n",
    "\n",
    "# import boto3\n",
    "# from botocore.client import Config\n",
    "# import s3fs \n",
    "# import os\n",
    "# mykey = \"\"\n",
    "# mysecretkey = \"\"\n",
    "# config = Config(connect_timeout=120, \n",
    "#                 retries={'max_attempts': 10})\n",
    "# s3 = boto3.resource(\n",
    "#     service_name='s3',\n",
    "#     region_name='us-west-2',\n",
    "#     aws_access_key_id=mykey,\n",
    "#     aws_secret_access_key=mysecretkey\n",
    "# )\n",
    "# client = boto3.client(\n",
    "#     service_name='s3',\n",
    "#     region_name='us-west-2',\n",
    "#     aws_access_key_id=mykey,\n",
    "#     aws_secret_access_key=mysecretkey,\n",
    "#     config=config\n",
    "# )\n",
    "# os.environ[\"AWS_DEFAULT_REGION\"] = 'us-west-2'\n",
    "# os.environ[\"AWS_ACCESS_KEY_ID\"] = mykey\n",
    "# os.environ[\"AWS_SECRET_ACCESS_KEY\"] = mysecretkey\n",
    "\n",
    "# bucket = 'uci-capstone-custfields'\n"
   ]
  },
  {
   "cell_type": "code",
   "execution_count": null,
   "metadata": {},
   "outputs": [],
   "source": [
    "# Query the sample data to visualize the sample word clouds\n",
    "custom_fields = pd.read_csv(\"../sample_data/sample_accounts_data/cleaned_accounts_sample.csv\", \n",
    "                            usecols = [\"tags\",\"keywords\",\"userdefinedfields\",\"org_id\",\"account_id\"])"
   ]
  },
  {
   "cell_type": "markdown",
   "metadata": {},
   "source": [
    "# Count Custom Fields"
   ]
  },
  {
   "cell_type": "markdown",
   "metadata": {},
   "source": [
    "## Helper Function"
   ]
  },
  {
   "cell_type": "code",
   "execution_count": null,
   "metadata": {},
   "outputs": [],
   "source": [
    "def sort_custom_count(custom_fields):\n",
    "    custom_dict = defaultdict(int)\n",
    "    for cfs in custom_fields:\n",
    "        cfs_list = cfs.split(\",\")\n",
    "        cfs_set = set()\n",
    "        for k in cfs_list:\n",
    "            cfs_set.add(k.strip())\n",
    "        for k in cfs_set:\n",
    "            custom_dict[k]+=1\n",
    "\n",
    "    sorted_custom = [(k,v) for k, v in sorted(custom_dict.items(), key=lambda item: -item[1])]\n",
    "    return sorted_custom\n",
    "\n",
    "def sort_udf_count(user_defined_fields):\n",
    "    custom_dict = defaultdict(int)\n",
    "    for cfs in user_defined_fields:\n",
    "        cfs_list = ast.literal_eval(cfs)\n",
    "        for k in cfs_list.keys():\n",
    "            custom_dict[k]+=1\n",
    "\n",
    "    sorted_custom = [(k,v) for k, v in sorted(custom_dict.items(), key=lambda item: -item[1])]\n",
    "    return sorted_custom"
   ]
  },
  {
   "cell_type": "code",
   "execution_count": null,
   "metadata": {},
   "outputs": [],
   "source": [
    "def display_wordcloud(cust_field_tuple, title):\n",
    "    cust_field_dict = dict()\n",
    "    for k,v in cust_field_tuple:\n",
    "        cust_field_dict[k] = v\n",
    "    wc = WordCloud(collocations=False,background_color = \"white\",width=800, height=400).generate_from_frequencies(cust_field_dict)\n",
    "    plt.figure(figsize = (20, 20), facecolor = None)\n",
    "    plt.imshow(wc)\n",
    "    plt.axis(\"off\")\n",
    "    plt.tight_layout(pad = 0)\n",
    "    plt.savefig(f'../outputs/WordClouds/WordCloud_{title}.png')\n",
    "    plt.show()"
   ]
  },
  {
   "cell_type": "markdown",
   "metadata": {},
   "source": [
    "## Keywords"
   ]
  },
  {
   "cell_type": "code",
   "execution_count": null,
   "metadata": {},
   "outputs": [],
   "source": [
    "keywords = custom_fields.keywords.apply(lambda x: x[1:-1] if type(x)==str else x)\n",
    "keywords = keywords.dropna().tolist()\n",
    "sorted_keywords = sort_custom_count(keywords)"
   ]
  },
  {
   "cell_type": "code",
   "execution_count": null,
   "metadata": {},
   "outputs": [],
   "source": [
    "sorted_keywords[0:5]"
   ]
  },
  {
   "cell_type": "code",
   "execution_count": null,
   "metadata": {},
   "outputs": [],
   "source": [
    "len(sorted_keywords)"
   ]
  },
  {
   "cell_type": "code",
   "execution_count": null,
   "metadata": {},
   "outputs": [],
   "source": [
    "keywords_df=pd.DataFrame.from_records(sorted_keywords, columns = [\"keyword\",\"keyword_count\"])\n",
    "keywords_df.to_csv(\"../outputs/WordClouds/keywords_count.csv\")\n",
    "keywords_df"
   ]
  },
  {
   "cell_type": "code",
   "execution_count": null,
   "metadata": {},
   "outputs": [],
   "source": [
    "display_wordcloud(sorted_keywords, title = \"WordCloud_Keywords\")"
   ]
  },
  {
   "cell_type": "markdown",
   "metadata": {},
   "source": [
    "## Tags"
   ]
  },
  {
   "cell_type": "code",
   "execution_count": null,
   "metadata": {},
   "outputs": [],
   "source": [
    "tags = custom_fields.tags.apply(lambda x: x[1:-1] if type(x)==str else x)\n",
    "tags = tags.dropna().tolist()\n",
    "sorted_tags = sort_custom_count(tags)"
   ]
  },
  {
   "cell_type": "code",
   "execution_count": null,
   "metadata": {},
   "outputs": [],
   "source": [
    "sorted_tags[0:5]"
   ]
  },
  {
   "cell_type": "code",
   "execution_count": null,
   "metadata": {},
   "outputs": [],
   "source": [
    "len(sorted_tags)"
   ]
  },
  {
   "cell_type": "code",
   "execution_count": null,
   "metadata": {},
   "outputs": [],
   "source": [
    "tags_df=pd.DataFrame.from_records(sorted_tags, columns = [\"tag\",\"tag_count\"])\n",
    "tags_df.to_csv(\"../outputs/WordClouds/tags_count.csv\")\n",
    "tags_df"
   ]
  },
  {
   "cell_type": "code",
   "execution_count": null,
   "metadata": {
    "scrolled": false
   },
   "outputs": [],
   "source": [
    "display_wordcloud(sorted_tags, title = \"WordCloud_Tags\")"
   ]
  },
  {
   "cell_type": "code",
   "execution_count": null,
   "metadata": {},
   "outputs": [],
   "source": [
    "tags_df = custom_fields[[\"org_id\",\"tags\"]].dropna()"
   ]
  },
  {
   "cell_type": "code",
   "execution_count": null,
   "metadata": {
    "scrolled": true
   },
   "outputs": [],
   "source": [
    "tags_df[tags_df.tags.str.contains(\"'WCUNLINK'\")][\"org_id\"].unique()"
   ]
  },
  {
   "cell_type": "markdown",
   "metadata": {},
   "source": [
    "## User Defined Fields"
   ]
  },
  {
   "cell_type": "code",
   "execution_count": null,
   "metadata": {},
   "outputs": [],
   "source": [
    "userdefinedfields = custom_fields.userdefinedfields.dropna()\n",
    "# userdefinedfields = userdefinedfields.dropna().tolist()\n",
    "sorted_userdefinedfields = sort_udf_count(userdefinedfields)\n"
   ]
  },
  {
   "cell_type": "code",
   "execution_count": null,
   "metadata": {},
   "outputs": [],
   "source": [
    "len(sorted_userdefinedfields)\n"
   ]
  },
  {
   "cell_type": "code",
   "execution_count": null,
   "metadata": {},
   "outputs": [],
   "source": [
    "userdefinedfields_df=pd.DataFrame.from_records(sorted_userdefinedfields, columns = [\"userdefinedfields\",\"userdefinedfields_count\"])\n",
    "userdefinedfields_df.to_csv(\"../outputs/WordClouds/userdefinedfields_count.csv\")\n",
    "userdefinedfields_df"
   ]
  },
  {
   "cell_type": "code",
   "execution_count": null,
   "metadata": {},
   "outputs": [],
   "source": [
    "display_wordcloud(sorted_userdefinedfields, title = \"WordCloud_UserDefinedFields\")"
   ]
  }
 ],
 "metadata": {
  "kernelspec": {
   "display_name": "Python 3",
   "language": "python",
   "name": "python3"
  },
  "language_info": {
   "codemirror_mode": {
    "name": "ipython",
    "version": 3
   },
   "file_extension": ".py",
   "mimetype": "text/x-python",
   "name": "python",
   "nbconvert_exporter": "python",
   "pygments_lexer": "ipython3",
   "version": "3.7.4"
  },
  "toc": {
   "base_numbering": 1,
   "nav_menu": {},
   "number_sections": true,
   "sideBar": true,
   "skip_h1_title": false,
   "title_cell": "Table of Contents",
   "title_sidebar": "Contents",
   "toc_cell": false,
   "toc_position": {},
   "toc_section_display": true,
   "toc_window_display": false
  }
 },
 "nbformat": 4,
 "nbformat_minor": 4
}

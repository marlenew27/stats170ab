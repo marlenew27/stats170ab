{
 "cells": [
  {
   "cell_type": "markdown",
   "metadata": {},
   "source": [
    "# Association Rule Mining"
   ]
  },
  {
   "cell_type": "code",
   "execution_count": null,
   "metadata": {},
   "outputs": [],
   "source": [
    "import pandas as pd\n",
    "import numpy as np\n",
    "import re\n",
    "import ast\n",
    "from sklearn.feature_extraction.text import TfidfVectorizer\n",
    "from sklearn.metrics.pairwise import cosine_similarity\n",
    "import scipy.sparse as sparse\n",
    "from ast import literal_eval\n",
    "import time\n",
    "from matplotlib import colors\n",
    "from sklearn.preprocessing import StandardScaler\n",
    "from sklearn.decomposition import PCA  \n",
    "from sklearn.preprocessing import scale\n",
    "import seaborn as sns\n",
    "import matplotlib.pyplot as plt\n",
    "import string\n",
    "\n",
    "from fuzzywuzzy import fuzz\n",
    "from fuzzywuzzy import process\n",
    "from collections import defaultdict"
   ]
  },
  {
   "cell_type": "markdown",
   "metadata": {},
   "source": [
    "# FP Growth"
   ]
  },
  {
   "cell_type": "code",
   "execution_count": null,
   "metadata": {
    "scrolled": true
   },
   "outputs": [],
   "source": [
    "custom_fields = pd.read_csv(\"../sample_data/other_samples/acc_tags_set.csv\")\n",
    "custom_fields = custom_fields[custom_fields.org_id == \"USC\"].copy()\n",
    "data = []\n",
    "for i in range(len(custom_fields)):\n",
    "    tag_list = ast.literal_eval(custom_fields.tags.iloc[i])\n",
    "    data.append(tag_list)\n",
    "    "
   ]
  },
  {
   "cell_type": "markdown",
   "metadata": {},
   "source": [
    "## Number of unique Tags"
   ]
  },
  {
   "cell_type": "code",
   "execution_count": null,
   "metadata": {},
   "outputs": [],
   "source": [
    "unique_tags = set()\n",
    "for k in data:\n",
    "    for t in k:\n",
    "        unique_tags.add(t)\n",
    "print(len(unique_tags))"
   ]
  },
  {
   "cell_type": "markdown",
   "metadata": {},
   "source": [
    "## Number of Unique Accounts"
   ]
  },
  {
   "cell_type": "code",
   "execution_count": null,
   "metadata": {},
   "outputs": [],
   "source": [
    "custom_fields=0\n",
    "len(data)"
   ]
  },
  {
   "cell_type": "markdown",
   "metadata": {},
   "source": [
    "## Tag Set Frequency"
   ]
  },
  {
   "cell_type": "code",
   "execution_count": null,
   "metadata": {
    "scrolled": true
   },
   "outputs": [],
   "source": [
    "\n",
    "#!/usr/bin/env python3\n",
    "#encoding:utf-8\n",
    "\n",
    "!pip install pyspark\n",
    "\n",
    "from pyspark.sql import SparkSession\n",
    "from pyspark.mllib.fpm import FPGrowth\n",
    " \n",
    "ss = SparkSession.builder \\\n",
    "        .appName(\"test_fp\") \\\n",
    "        .config(\"spark.executor.memory\", \"32G\") \\\n",
    "        .config(\"spark.driver.memory\", \"32G\") \\\n",
    "        .config(\"spark.python.worker.memory\", \"32G\") \\\n",
    "        .config(\"spark.default.parallelism\", \"4\") \\\n",
    "        .config(\"spark.executor.cores\", \"8\") \\\n",
    "        .config(\"spark.sql.shuffle.partitions\", \"500\") \\\n",
    "        .config(\"spark.sql.crossJoin.enabled\", \"true\")\\\n",
    "        .config(\"spark.sql.broadcastTimeout\",\"36000\") \\\n",
    "        .enableHiveSupport() \\\n",
    "        .getOrCreate()\n",
    "\n",
    "\n",
    "rdd = ss.sparkContext.parallelize(data, 2)\n",
    "print(\"finish_1\")\n",
    "model = FPGrowth.train(rdd, 0.005, 2)\n",
    "print(len(data)*0.005)\n",
    "tag_freq = model.freqItemsets().collect()\n"
   ]
  },
  {
   "cell_type": "code",
   "execution_count": null,
   "metadata": {},
   "outputs": [],
   "source": [
    "high_freq_tag = set()\n",
    "for ts in tag_freq:\n",
    "    for t in ts.items:\n",
    "#         print()\n",
    "        high_freq_tag.add(t)"
   ]
  },
  {
   "cell_type": "code",
   "execution_count": null,
   "metadata": {},
   "outputs": [],
   "source": [
    "len(high_freq_tag)"
   ]
  },
  {
   "cell_type": "code",
   "execution_count": null,
   "metadata": {
    "scrolled": true
   },
   "outputs": [],
   "source": [
    "freq_count = []\n",
    "for t in high_freq_tag:\n",
    "    print(t)\n",
    "    freq_score = []\n",
    "    for k in high_freq_tag:\n",
    "        freq = 0\n",
    "        temp = []\n",
    "        for d in data:\n",
    "            if t in d:\n",
    "                temp.append(d)\n",
    "        for d in temp:\n",
    "            if k in d:\n",
    "                freq+=1\n",
    "        freq_score.append(freq)\n",
    "    freq_count.append(np.array(freq_score))\n",
    "freq_count = np.array(freq_count)"
   ]
  },
  {
   "cell_type": "markdown",
   "metadata": {},
   "source": [
    "## Heatmap Helper Function"
   ]
  },
  {
   "cell_type": "code",
   "execution_count": null,
   "metadata": {},
   "outputs": [],
   "source": [
    "import matplotlib.pyplot as plt\n",
    "from mpl_toolkits import axes_grid1\n",
    "def add_colorbar(im, aspect=20, pad_fraction=0.5, **kwargs):\n",
    "    \"\"\"Add a vertical color bar to an image plot.\"\"\"\n",
    "    divider = axes_grid1.make_axes_locatable(im.axes)\n",
    "    width = axes_grid1.axes_size.AxesY(im.axes, aspect=1./aspect)\n",
    "    pad = axes_grid1.axes_size.Fraction(pad_fraction, width)\n",
    "    current_ax = plt.gca()\n",
    "    cax = divider.append_axes(\"right\", size=width, pad=pad)\n",
    "    plt.sca(current_ax)\n",
    "    return im.axes.figure.colorbar(im, cax=cax, **kwargs)\n",
    "\n",
    "def heatmap(data, row_labels, col_labels, ax=None,\n",
    "            cbar_kw={}, cbarlabel=\"\", **kwargs):\n",
    "\n",
    "    if not ax:\n",
    "        ax = plt.gca()\n",
    "\n",
    "    \n",
    "    im = ax.imshow(data, **kwargs)\n",
    "    \n",
    "    cbar = add_colorbar(im, ax=ax,**cbar_kw)\n",
    "\n",
    "    cbar.ax.set_ylabel(cbarlabel, rotation=-90, va=\"bottom\",\n",
    "                      fontsize = 15)\n",
    "\n",
    "\n",
    "    ax.set_xticks(np.arange(data.shape[1]))\n",
    "    ax.set_yticks(np.arange(data.shape[0]))\n",
    "\n",
    "    ax.set_xticklabels(col_labels, fontsize = 13)\n",
    "    ax.set_yticklabels(row_labels, fontsize = 13)\n",
    "\n",
    "    ax.tick_params(top=True, bottom=False,\n",
    "                   labeltop=True, labelbottom=False)\n",
    "\n",
    "\n",
    "    plt.setp(ax.get_xticklabels(), rotation=-30, ha=\"right\",\n",
    "             rotation_mode=\"anchor\")\n",
    "\n",
    "\n",
    "    for edge, spine in ax.spines.items():\n",
    "        spine.set_visible(False)\n",
    "\n",
    "    ax.set_xticks(np.arange(data.shape[1]+1)-.5, minor=True)\n",
    "    ax.set_yticks(np.arange(data.shape[0]+1)-.5, minor=True)\n",
    "\n",
    "    ax.grid(which=\"minor\", color=\"w\", linestyle='-', linewidth=3)\n",
    "\n",
    "    ax.tick_params(which=\"minor\", bottom=False, left=False)\n",
    "    \n",
    "    ax.set_title(\"Number of Accounts that USC Labeled with Both Tags\", fontsize = 15)  \n",
    "    fig.tight_layout()\n",
    "    \n",
    "    plt.savefig(\"../outputs/Association Rule Mining/heatmap_acc_Num_tagSet_2.png\",bbox_inches='tight')\n",
    "    return im, cbar\n"
   ]
  },
  {
   "cell_type": "markdown",
   "metadata": {},
   "source": [
    "## Build Heatmap"
   ]
  },
  {
   "cell_type": "code",
   "execution_count": null,
   "metadata": {},
   "outputs": [],
   "source": [
    "fig, ax = plt.subplots(figsize=(10,10))  \n",
    "im, _ = heatmap(freq_count, high_freq_tag, high_freq_tag, ax=ax,\n",
    "                cmap=\"Reds\",cbarlabel=\"Number of Accounts\",vmin = 0,vmax = len(data))"
   ]
  },
  {
   "cell_type": "code",
   "execution_count": null,
   "metadata": {},
   "outputs": [],
   "source": []
  }
 ],
 "metadata": {
  "kernelspec": {
   "display_name": "Python 3",
   "language": "python",
   "name": "python3"
  },
  "language_info": {
   "codemirror_mode": {
    "name": "ipython",
    "version": 3
   },
   "file_extension": ".py",
   "mimetype": "text/x-python",
   "name": "python",
   "nbconvert_exporter": "python",
   "pygments_lexer": "ipython3",
   "version": "3.7.4"
  },
  "toc": {
   "base_numbering": 1,
   "nav_menu": {},
   "number_sections": true,
   "sideBar": true,
   "skip_h1_title": false,
   "title_cell": "Table of Contents",
   "title_sidebar": "Contents",
   "toc_cell": false,
   "toc_position": {},
   "toc_section_display": true,
   "toc_window_display": false
  }
 },
 "nbformat": 4,
 "nbformat_minor": 4
}
